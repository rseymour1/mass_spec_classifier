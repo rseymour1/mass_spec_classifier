{
 "cells": [
  {
   "cell_type": "code",
   "execution_count": 15,
   "metadata": {},
   "outputs": [],
   "source": [
    "import re"
   ]
  },
  {
   "cell_type": "code",
   "execution_count": null,
   "metadata": {},
   "outputs": [],
   "source": [
    "file_content = \"\"\n",
    "with open(\"19CPTAC_LUAD_W_BI_20180730_KL_f08.mzML\", 'r') as file:\n",
    "    lines = file.readlines()\n"
   ]
  },
  {
   "cell_type": "code",
   "execution_count": 43,
   "metadata": {},
   "outputs": [],
   "source": [
    "for i in range(len(lines)):\n",
    "    lines[i] = (re.sub(\"(\\\"[^\\\"]*?[t|T]hermo[^\\\"]*?\\\")|(\\\"[^\\\"]*?[o|O]rbitrap[^\\\"]*?\\\")|(\\\"[^\\\"]*?[e|E]xactive[^\\\"]*?\\\")|(\\\"[^\\\"]*?[q|Q]uadrupole[^\\\"]*?\\\")\", \"\\\"\\\"\", lines[i]))\n"
   ]
  },
  {
   "cell_type": "code",
   "execution_count": null,
   "metadata": {},
   "outputs": [
    {
     "name": "stdout",
     "output_type": "stream",
     "text": [
      "      </fileContent>\n",
      "\n",
      "      <sourceFileList count=\"1\">\n",
      "\n",
      "        <sourceFile id=\"RAW1\" name=\"19CPTAC_LUAD_W_BI_20180730_KL_f08.raw\" location=\"\">\n",
      "\n",
      "          <cvParam cvRef=\"MS\" accession=\"MS:1000768\" name=\"\" value=\"\"/>\n",
      "\n",
      "          <cvParam cvRef=\"MS\" accession=\"MS:1000563\" name=\"\" value=\"\"/>\n",
      "\n",
      "          <cvParam cvRef=\"MS\" accession=\"MS:1000569\" name=\"SHA-1\" value=\"465e6614cefb42a05cda1bc428c0bcfdf591a4dc\"/>\n",
      "\n",
      "        </sourceFile>\n",
      "\n",
      "      </sourceFileList>\n",
      "\n",
      "    </fileDescription>\n",
      "\n"
     ]
    }
   ],
   "source": [
    "with open(\"file_path\", 'w') as file:\n",
    "    for line in lines:\n",
    "      file.write(line)"
   ]
  }
 ],
 "metadata": {
  "kernelspec": {
   "display_name": "mlbio_device_spectra",
   "language": "python",
   "name": "python3"
  },
  "language_info": {
   "codemirror_mode": {
    "name": "ipython",
    "version": 3
   },
   "file_extension": ".py",
   "mimetype": "text/x-python",
   "name": "python",
   "nbconvert_exporter": "python",
   "pygments_lexer": "ipython3",
   "version": "3.12.7"
  }
 },
 "nbformat": 4,
 "nbformat_minor": 2
}
