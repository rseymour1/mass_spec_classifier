{
 "cells": [
  {
   "cell_type": "code",
   "execution_count": 1,
   "metadata": {},
   "outputs": [
    {
     "name": "stderr",
     "output_type": "stream",
     "text": [
      "/Users/jhgirald/mambaforge/envs/depthcharge/lib/python3.10/site-packages/tqdm/auto.py:21: TqdmWarning: IProgress not found. Please update jupyter and ipywidgets. See https://ipywidgets.readthedocs.io/en/stable/user_install.html\n",
      "  from .autonotebook import tqdm as notebook_tqdm\n"
     ]
    }
   ],
   "source": [
    "import depthcharge as dc\n",
    "from depthcharge.encoders import PeakEncoder\n",
    "from depthcharge.data import SpectrumDataset\n",
    "import torch"
   ]
  },
  {
   "cell_type": "code",
   "execution_count": 7,
   "metadata": {},
   "outputs": [],
   "source": [
    "mzml = '/Users/jhgirald/Documents/MMB/project/08CPTAC_C_GBM_W_PNNL_20210830_B2S3_f20.mzML'"
   ]
  },
  {
   "cell_type": "code",
   "execution_count": null,
   "metadata": {},
   "outputs": [
    {
     "name": "stderr",
     "output_type": "stream",
     "text": [
      "08CPTAC_C_GBM_W_PNNL_20210830_B2S3_f20.mzML: 100%|██████████| 54852/54852 [01:05<00:00, 838.09 spectra/s] \n"
     ]
    }
   ],
   "source": [
    "df = dc.data.spectra_to_df(mzml, progress=True)"
   ]
  },
  {
   "cell_type": "code",
   "execution_count": 6,
   "metadata": {},
   "outputs": [
    {
     "name": "stdout",
     "output_type": "stream",
     "text": [
      "shape: (5, 7)\n",
      "┌──────────────┬──────────────┬──────────┬──────────────┬──────────────┬─────────────┬─────────────┐\n",
      "│ peak_file    ┆ scan_id      ┆ ms_level ┆ precursor_mz ┆ precursor_ch ┆ mz_array    ┆ intensity_a │\n",
      "│ ---          ┆ ---          ┆ ---      ┆ ---          ┆ arge         ┆ ---         ┆ rray        │\n",
      "│ str          ┆ str          ┆ u8       ┆ f64          ┆ ---          ┆ list[f64]   ┆ ---         │\n",
      "│              ┆              ┆          ┆              ┆ i16          ┆             ┆ list[f64]   │\n",
      "╞══════════════╪══════════════╪══════════╪══════════════╪══════════════╪═════════════╪═════════════╡\n",
      "│ 08CPTAC_C_GB ┆ controllerTy ┆ 2        ┆ 702.865723   ┆ 2            ┆ [143.360748 ┆ [0.011069,  │\n",
      "│ M_W_PNNL_202 ┆ pe=0 control ┆          ┆              ┆              ┆ ,           ┆ 0.011332, … │\n",
      "│ 10830_…      ┆ lerNum…      ┆          ┆              ┆              ┆ 146.805038, ┆ 0.01651…    │\n",
      "│              ┆              ┆          ┆              ┆              ┆ … 703…      ┆             │\n",
      "│ 08CPTAC_C_GB ┆ controllerTy ┆ 2        ┆ 598.882507   ┆ 2            ┆ [154.233185 ┆ [0.008461,  │\n",
      "│ M_W_PNNL_202 ┆ pe=0 control ┆          ┆              ┆              ┆ ,           ┆ 0.008384, … │\n",
      "│ 10830_…      ┆ lerNum…      ┆          ┆              ┆              ┆ 156.54274,  ┆ 0.01043…    │\n",
      "│              ┆              ┆          ┆              ┆              ┆ … 599.…     ┆             │\n",
      "│ 08CPTAC_C_GB ┆ controllerTy ┆ 2        ┆ 666.372986   ┆ 2            ┆ [140.823715 ┆ [0.015466,  │\n",
      "│ M_W_PNNL_202 ┆ pe=0 control ┆          ┆              ┆              ┆ ,           ┆ 0.016554, … │\n",
      "│ 10830_…      ┆ lerNum…      ┆          ┆              ┆              ┆ 147.26712,  ┆ 0.01949…    │\n",
      "│              ┆              ┆          ┆              ┆              ┆ … 1016…     ┆             │\n",
      "│ 08CPTAC_C_GB ┆ controllerTy ┆ 2        ┆ 740.874634   ┆ 3            ┆ [144.666336 ┆ [0.012172,  │\n",
      "│ M_W_PNNL_202 ┆ pe=0 control ┆          ┆              ┆              ┆ ,           ┆ 0.014677, … │\n",
      "│ 10830_…      ┆ lerNum…      ┆          ┆              ┆              ┆ 147.241913, ┆ 0.02084…    │\n",
      "│              ┆              ┆          ┆              ┆              ┆ … 197…      ┆             │\n",
      "│ 08CPTAC_C_GB ┆ controllerTy ┆ 2        ┆ 641.843262   ┆ 2            ┆ [144.084061 ┆ [0.012475,  │\n",
      "│ M_W_PNNL_202 ┆ pe=0 control ┆          ┆              ┆              ┆ ,           ┆ 0.013307, … │\n",
      "│ 10830_…      ┆ lerNum…      ┆          ┆              ┆              ┆ 145.602966, ┆ 0.01598…    │\n",
      "│              ┆              ┆          ┆              ┆              ┆ … 105…      ┆             │\n",
      "└──────────────┴──────────────┴──────────┴──────────────┴──────────────┴─────────────┴─────────────┘\n"
     ]
    }
   ],
   "source": [
    "print(df.head())"
   ]
  },
  {
   "cell_type": "code",
   "execution_count": 3,
   "metadata": {},
   "outputs": [],
   "source": [
    "encoder = PeakEncoder(100)"
   ]
  },
  {
   "cell_type": "code",
   "execution_count": null,
   "metadata": {},
   "outputs": [
    {
     "ename": "TypeError",
     "evalue": "PeakEncoder.forward() missing 1 required positional argument: 'X'",
     "output_type": "error",
     "traceback": [
      "\u001b[0;31m---------------------------------------------------------------------------\u001b[0m",
      "\u001b[0;31mTypeError\u001b[0m                                 Traceback (most recent call last)",
      "Cell \u001b[0;32mIn[4], line 1\u001b[0m\n\u001b[0;32m----> 1\u001b[0m \u001b[43mencoder\u001b[49m\u001b[38;5;241;43m.\u001b[39;49m\u001b[43mforward\u001b[49m\u001b[43m(\u001b[49m\u001b[43m)\u001b[49m\n",
      "\u001b[0;31mTypeError\u001b[0m: PeakEncoder.forward() missing 1 required positional argument: 'X'"
     ]
    }
   ],
   "source": []
  },
  {
   "cell_type": "code",
   "execution_count": 8,
   "metadata": {},
   "outputs": [
    {
     "name": "stderr",
     "output_type": "stream",
     "text": [
      "08CPTAC_C_GBM_W_PNNL_20210830_B2S3_f20.mzML: 100%|██████████| 54852/54852 [01:02<00:00, 878.47 spectra/s] \n"
     ]
    }
   ],
   "source": [
    "dataset = SpectrumDataset(mzml, batch_size=1000)"
   ]
  },
  {
   "cell_type": "code",
   "execution_count": 56,
   "metadata": {},
   "outputs": [],
   "source": [
    "count = 0\n",
    "for spectrum in dataset:\n",
    "    # embeded = encoder.forward(spectrum[\"mz_array\"])\n",
    "    a_spec = spectrum\n",
    "    if (count == 0):\n",
    "        break  \n",
    "    count += 1"
   ]
  },
  {
   "cell_type": "code",
   "execution_count": null,
   "metadata": {},
   "outputs": [
    {
     "data": {
      "text/plain": [
       "tensor(143.3607)"
      ]
     },
     "execution_count": 72,
     "metadata": {},
     "output_type": "execute_result"
    }
   ],
   "source": [
    "mz_values = a_spec[\"mz_array\"][0]\n",
    "intensities = a_spec[\"intensity_array\"][0]\n",
    "peaks = list(zip(mz_values, intensities))\n"
   ]
  },
  {
   "cell_type": "code",
   "execution_count": 73,
   "metadata": {},
   "outputs": [
    {
     "data": {
      "text/plain": [
       "tensor(143.3607)"
      ]
     },
     "execution_count": 73,
     "metadata": {},
     "output_type": "execute_result"
    }
   ],
   "source": [
    "mz_values[0]"
   ]
  },
  {
   "cell_type": "code",
   "execution_count": 86,
   "metadata": {},
   "outputs": [],
   "source": [
    "test1 = torch.tensor([peaks])"
   ]
  },
  {
   "cell_type": "code",
   "execution_count": 89,
   "metadata": {},
   "outputs": [],
   "source": [
    "encoded_test1 = encoder.forward(test1)"
   ]
  },
  {
   "cell_type": "code",
   "execution_count": 104,
   "metadata": {},
   "outputs": [
    {
     "data": {
      "text/plain": [
       "torch.Size([1, 45, 100])"
      ]
     },
     "execution_count": 104,
     "metadata": {},
     "output_type": "execute_result"
    }
   ],
   "source": [
    "encoded_test1.shape"
   ]
  },
  {
   "cell_type": "code",
   "execution_count": 13,
   "metadata": {},
   "outputs": [
    {
     "name": "stdout",
     "output_type": "stream",
     "text": [
      "torch.Size([1000, 201, 128])\n"
     ]
    }
   ],
   "source": [
    "from torch.utils.data import DataLoader\n",
    "from depthcharge.transformers import SpectrumTransformerEncoder\n",
    "\n",
    "model = SpectrumTransformerEncoder()\n",
    "# Grab the first 1000 spectra for testing\n",
    "b_size = 1000\n",
    "# loader = DataLoader(dataset, batch_size=None)\n",
    "# batch1 = next(dataset)\n",
    "for batch in dataset:\n",
    "    out = model(batch[\"mz_array\"], batch[\"intensity_array\"])\n",
    "    print(out[0].shape)\n",
    "    break\n",
    "#for batch in loader:\n",
    "#    print(batch[\"scan_id\"], batch[\"precursor_mz\"])"
   ]
  },
  {
   "cell_type": "code",
   "execution_count": 21,
   "metadata": {},
   "outputs": [
    {
     "data": {
      "text/plain": [
       "(tensor([[[-1.5370,  0.1572,  0.0553,  ..., -1.8717,  1.1506,  0.7468],\n",
       "          [ 1.6614,  1.3637,  0.4146,  ..., -2.2672, -1.6920,  0.4894],\n",
       "          [ 1.7226,  0.2232, -0.9428,  ..., -1.4241, -1.6221,  0.1365],\n",
       "          ...,\n",
       "          [-0.7916,  0.3867, -0.7404,  ..., -0.9409,  0.9512,  1.1092],\n",
       "          [-0.7916,  0.3867, -0.7404,  ..., -0.9409,  0.9512,  1.1092],\n",
       "          [-0.7916,  0.3867, -0.7404,  ..., -0.9409,  0.9512,  1.1092]],\n",
       " \n",
       "         [[-0.8090,  1.2076,  0.7267,  ..., -0.2241,  0.2696,  1.4388],\n",
       "          [ 0.3395,  1.5272, -0.8977,  ..., -2.0462, -0.3872, -0.8355],\n",
       "          [-0.2187,  0.4385,  0.2705,  ...,  0.0463,  0.0697, -0.2146],\n",
       "          ...,\n",
       "          [-0.6813,  0.5600, -0.6415,  ..., -0.6473,  0.8012,  1.2213],\n",
       "          [-0.6813,  0.5600, -0.6415,  ..., -0.6473,  0.8012,  1.2213],\n",
       "          [-0.6813,  0.5600, -0.6415,  ..., -0.6473,  0.8012,  1.2213]],\n",
       " \n",
       "         [[-1.6003, -0.3274, -0.3987,  ..., -0.6660,  0.7142,  1.0579],\n",
       "          [ 0.7310,  1.4122, -2.0463,  ..., -1.3514, -0.3082, -0.4802],\n",
       "          [-0.1782, -1.7650, -1.3544,  ...,  0.1263, -1.1838, -1.0821],\n",
       "          ...,\n",
       "          [-0.8580,  0.3116, -0.8207,  ..., -0.7408,  0.8716,  1.1687],\n",
       "          [-0.8580,  0.3116, -0.8207,  ..., -0.7408,  0.8716,  1.1687],\n",
       "          [-0.8580,  0.3116, -0.8207,  ..., -0.7408,  0.8716,  1.1687]],\n",
       " \n",
       "         ...,\n",
       " \n",
       "         [[-1.6331,  0.9075,  0.7606,  ..., -0.7509,  0.5487,  0.8730],\n",
       "          [ 0.8236,  1.5445, -0.7906,  ...,  0.4529, -0.4150,  1.3960],\n",
       "          [ 0.3762,  0.6245, -0.5450,  ..., -0.5011, -1.2924,  0.3014],\n",
       "          ...,\n",
       "          [-0.8734,  0.5147, -0.5850,  ..., -0.7554,  0.8835,  1.1599],\n",
       "          [-0.8734,  0.5147, -0.5850,  ..., -0.7554,  0.8835,  1.1599],\n",
       "          [-0.8734,  0.5147, -0.5850,  ..., -0.7554,  0.8835,  1.1599]],\n",
       " \n",
       "         [[-1.2729,  0.6897,  0.6674,  ..., -0.5105, -0.1988,  1.6211],\n",
       "          [ 1.2386,  1.0785, -0.7911,  ...,  0.7970, -0.5828, -0.7130],\n",
       "          [-0.3839, -0.6756, -1.2394,  ..., -0.8533, -1.3183,  0.0417],\n",
       "          ...,\n",
       "          [-0.7859,  0.4622, -0.6296,  ..., -0.6700,  0.7425,  1.2572],\n",
       "          [-0.7859,  0.4622, -0.6296,  ..., -0.6700,  0.7425,  1.2572],\n",
       "          [-0.7859,  0.4622, -0.6296,  ..., -0.6700,  0.7425,  1.2572]],\n",
       " \n",
       "         [[-0.7074,  0.4597,  0.4043,  ..., -0.6885,  0.0483,  2.0655],\n",
       "          [ 0.1610, -0.4869, -2.2698,  ..., -0.1702, -1.5042,  0.1036],\n",
       "          [ 0.1530,  0.1267,  0.0643,  ...,  0.3739, -0.3501, -0.6541],\n",
       "          ...,\n",
       "          [-0.6611,  0.4217, -0.6698,  ..., -0.7374,  0.8103,  1.3233],\n",
       "          [-0.6611,  0.4217, -0.6698,  ..., -0.7374,  0.8103,  1.3233],\n",
       "          [-0.6611,  0.4217, -0.6698,  ..., -0.7374,  0.8103,  1.3233]]],\n",
       "        grad_fn=<NativeLayerNormBackward0>),\n",
       " tensor([[False, False, False,  ...,  True,  True,  True],\n",
       "         [False, False, False,  ...,  True,  True,  True],\n",
       "         [False, False, False,  ...,  True,  True,  True],\n",
       "         ...,\n",
       "         [False, False, False,  ...,  True,  True,  True],\n",
       "         [False, False, False,  ...,  True,  True,  True],\n",
       "         [False, False, False,  ...,  True,  True,  True]]))"
      ]
     },
     "execution_count": 21,
     "metadata": {},
     "output_type": "execute_result"
    }
   ],
   "source": [
    "out"
   ]
  }
 ],
 "metadata": {
  "kernelspec": {
   "display_name": "depthcharge",
   "language": "python",
   "name": "python3"
  },
  "language_info": {
   "codemirror_mode": {
    "name": "ipython",
    "version": 3
   },
   "file_extension": ".py",
   "mimetype": "text/x-python",
   "name": "python",
   "nbconvert_exporter": "python",
   "pygments_lexer": "ipython3",
   "version": "3.10.16"
  }
 },
 "nbformat": 4,
 "nbformat_minor": 2
}
