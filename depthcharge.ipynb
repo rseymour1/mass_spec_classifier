{
 "cells": [
  {
   "cell_type": "code",
   "execution_count": 5,
   "metadata": {},
   "outputs": [
    {
     "name": "stdout",
     "output_type": "stream",
     "text": [
      "Collecting depthcharge-ms\n",
      "  Downloading depthcharge_ms-0.4.8-py3-none-any.whl.metadata (1.6 kB)\n",
      "Collecting torch>=2.0.0 (from depthcharge-ms)\n",
      "  Downloading torch-2.5.1-cp312-none-macosx_11_0_arm64.whl.metadata (28 kB)\n",
      "Collecting polars>=0.19.0 (from depthcharge-ms)\n",
      "  Downloading polars-1.17.1-cp39-abi3-macosx_11_0_arm64.whl.metadata (14 kB)\n",
      "Requirement already satisfied: pyarrow>=12.0.1 in /opt/anaconda3/lib/python3.12/site-packages (from depthcharge-ms) (16.1.0)\n",
      "Collecting pylance>=0.7.5 (from depthcharge-ms)\n",
      "  Downloading pylance-0.20.0-cp39-abi3-macosx_11_0_arm64.whl.metadata (7.4 kB)\n",
      "Collecting pyteomics>=4.7.2 (from depthcharge-ms)\n",
      "  Downloading pyteomics-4.7.5-py3-none-any.whl.metadata (6.5 kB)\n",
      "Requirement already satisfied: numpy>=1.18.1 in /opt/anaconda3/lib/python3.12/site-packages (from depthcharge-ms) (1.26.4)\n",
      "Requirement already satisfied: numba>=0.48.0 in /opt/anaconda3/lib/python3.12/site-packages (from depthcharge-ms) (0.60.0)\n",
      "Requirement already satisfied: lxml>=4.9.1 in /opt/anaconda3/lib/python3.12/site-packages (from depthcharge-ms) (5.2.1)\n",
      "Collecting einops>=0.4.1 (from depthcharge-ms)\n",
      "  Downloading einops-0.8.0-py3-none-any.whl.metadata (12 kB)\n",
      "Requirement already satisfied: tqdm>=4.65.0 in /opt/anaconda3/lib/python3.12/site-packages (from depthcharge-ms) (4.66.5)\n",
      "Collecting lark>=1.1.4 (from depthcharge-ms)\n",
      "  Downloading lark-1.2.2-py3-none-any.whl.metadata (1.8 kB)\n",
      "Collecting selfies>=2.1.1 (from depthcharge-ms)\n",
      "  Downloading selfies-2.1.2-py3-none-any.whl.metadata (14 kB)\n",
      "Requirement already satisfied: sortedcontainers>=2.4.0 in /opt/anaconda3/lib/python3.12/site-packages (from depthcharge-ms) (2.4.0)\n",
      "Requirement already satisfied: dill>=0.3.6 in /opt/anaconda3/lib/python3.12/site-packages (from depthcharge-ms) (0.3.8)\n",
      "Collecting rdkit>=2023.03.1 (from depthcharge-ms)\n",
      "  Downloading rdkit-2024.3.6-cp312-cp312-macosx_11_0_arm64.whl.metadata (4.0 kB)\n",
      "Requirement already satisfied: pillow>=9.4.0 in /opt/anaconda3/lib/python3.12/site-packages (from depthcharge-ms) (10.4.0)\n",
      "Collecting spectrum-utils>=0.4.1 (from depthcharge-ms)\n",
      "  Downloading spectrum_utils-0.4.2-py3-none-any.whl.metadata (3.9 kB)\n",
      "Collecting cloudpathlib>=0.18.1 (from depthcharge-ms)\n",
      "  Downloading cloudpathlib-0.20.0-py3-none-any.whl.metadata (14 kB)\n",
      "Collecting psims>=1.3.3 (from depthcharge-ms)\n",
      "  Downloading psims-1.3.4-py3-none-any.whl.metadata (3.8 kB)\n",
      "Requirement already satisfied: llvmlite<0.44,>=0.43.0dev0 in /opt/anaconda3/lib/python3.12/site-packages (from numba>=0.48.0->depthcharge-ms) (0.43.0)\n",
      "Requirement already satisfied: six in /opt/anaconda3/lib/python3.12/site-packages (from psims>=1.3.3->depthcharge-ms) (1.16.0)\n",
      "Requirement already satisfied: sqlalchemy in /opt/anaconda3/lib/python3.12/site-packages (from psims>=1.3.3->depthcharge-ms) (2.0.34)\n",
      "Requirement already satisfied: appdirs in /opt/anaconda3/lib/python3.12/site-packages (from spectrum-utils>=0.4.1->depthcharge-ms) (1.4.4)\n",
      "Collecting fastobo (from spectrum-utils>=0.4.1->depthcharge-ms)\n",
      "  Downloading fastobo-0.12.3-cp312-cp312-macosx_11_0_arm64.whl.metadata (6.3 kB)\n",
      "Requirement already satisfied: matplotlib>=3.5 in /opt/anaconda3/lib/python3.12/site-packages (from spectrum-utils>=0.4.1->depthcharge-ms) (3.9.2)\n",
      "Requirement already satisfied: filelock in /opt/anaconda3/lib/python3.12/site-packages (from torch>=2.0.0->depthcharge-ms) (3.13.1)\n",
      "Requirement already satisfied: typing-extensions>=4.8.0 in /opt/anaconda3/lib/python3.12/site-packages (from torch>=2.0.0->depthcharge-ms) (4.11.0)\n",
      "Requirement already satisfied: networkx in /opt/anaconda3/lib/python3.12/site-packages (from torch>=2.0.0->depthcharge-ms) (3.3)\n",
      "Requirement already satisfied: jinja2 in /opt/anaconda3/lib/python3.12/site-packages (from torch>=2.0.0->depthcharge-ms) (3.1.4)\n",
      "Requirement already satisfied: fsspec in /opt/anaconda3/lib/python3.12/site-packages (from torch>=2.0.0->depthcharge-ms) (2024.6.1)\n",
      "Requirement already satisfied: setuptools in /opt/anaconda3/lib/python3.12/site-packages (from torch>=2.0.0->depthcharge-ms) (75.1.0)\n",
      "Collecting sympy==1.13.1 (from torch>=2.0.0->depthcharge-ms)\n",
      "  Downloading sympy-1.13.1-py3-none-any.whl.metadata (12 kB)\n",
      "Requirement already satisfied: mpmath<1.4,>=1.1.0 in /opt/anaconda3/lib/python3.12/site-packages (from sympy==1.13.1->torch>=2.0.0->depthcharge-ms) (1.3.0)\n",
      "Requirement already satisfied: contourpy>=1.0.1 in /opt/anaconda3/lib/python3.12/site-packages (from matplotlib>=3.5->spectrum-utils>=0.4.1->depthcharge-ms) (1.2.0)\n",
      "Requirement already satisfied: cycler>=0.10 in /opt/anaconda3/lib/python3.12/site-packages (from matplotlib>=3.5->spectrum-utils>=0.4.1->depthcharge-ms) (0.11.0)\n",
      "Requirement already satisfied: fonttools>=4.22.0 in /opt/anaconda3/lib/python3.12/site-packages (from matplotlib>=3.5->spectrum-utils>=0.4.1->depthcharge-ms) (4.51.0)\n",
      "Requirement already satisfied: kiwisolver>=1.3.1 in /opt/anaconda3/lib/python3.12/site-packages (from matplotlib>=3.5->spectrum-utils>=0.4.1->depthcharge-ms) (1.4.4)\n",
      "Requirement already satisfied: packaging>=20.0 in /opt/anaconda3/lib/python3.12/site-packages (from matplotlib>=3.5->spectrum-utils>=0.4.1->depthcharge-ms) (24.1)\n",
      "Requirement already satisfied: pyparsing>=2.3.1 in /opt/anaconda3/lib/python3.12/site-packages (from matplotlib>=3.5->spectrum-utils>=0.4.1->depthcharge-ms) (3.1.2)\n",
      "Requirement already satisfied: python-dateutil>=2.7 in /opt/anaconda3/lib/python3.12/site-packages (from matplotlib>=3.5->spectrum-utils>=0.4.1->depthcharge-ms) (2.9.0.post0)\n",
      "Requirement already satisfied: MarkupSafe>=2.0 in /opt/anaconda3/lib/python3.12/site-packages (from jinja2->torch>=2.0.0->depthcharge-ms) (2.1.3)\n",
      "Downloading depthcharge_ms-0.4.8-py3-none-any.whl (39 kB)\n",
      "Downloading cloudpathlib-0.20.0-py3-none-any.whl (52 kB)\n",
      "Downloading einops-0.8.0-py3-none-any.whl (43 kB)\n",
      "Downloading lark-1.2.2-py3-none-any.whl (111 kB)\n",
      "Downloading polars-1.17.1-cp39-abi3-macosx_11_0_arm64.whl (28.8 MB)\n",
      "\u001b[2K   \u001b[90m━━━━━━━━━━━━━━━━━━━━━━━━━━━━━━━━━━━━━━━━\u001b[0m \u001b[32m28.8/28.8 MB\u001b[0m \u001b[31m100.2 MB/s\u001b[0m eta \u001b[36m0:00:00\u001b[0ma \u001b[36m0:00:01\u001b[0m\n",
      "\u001b[?25hDownloading psims-1.3.4-py3-none-any.whl (18.8 MB)\n",
      "\u001b[2K   \u001b[90m━━━━━━━━━━━━━━━━━━━━━━━━━━━━━━━━━━━━━━━━\u001b[0m \u001b[32m18.8/18.8 MB\u001b[0m \u001b[31m17.8 MB/s\u001b[0m eta \u001b[36m0:00:00\u001b[0m00:01\u001b[0m00:01\u001b[0m\n",
      "\u001b[?25hDownloading pylance-0.20.0-cp39-abi3-macosx_11_0_arm64.whl (29.3 MB)\n",
      "\u001b[2K   \u001b[90m━━━━━━━━━━━━━━━━━━━━━━━━━━━━━━━━━━━━━━━━\u001b[0m \u001b[32m29.3/29.3 MB\u001b[0m \u001b[31m19.5 MB/s\u001b[0m eta \u001b[36m0:00:00\u001b[0m00:01\u001b[0m00:01\u001b[0m\n",
      "\u001b[?25hDownloading pyteomics-4.7.5-py3-none-any.whl (238 kB)\n",
      "Downloading rdkit-2024.3.6-cp312-cp312-macosx_11_0_arm64.whl (26.8 MB)\n",
      "\u001b[2K   \u001b[90m━━━━━━━━━━━━━━━━━━━━━━━━━━━━━━━━━━━━━━━━\u001b[0m \u001b[32m26.8/26.8 MB\u001b[0m \u001b[31m17.2 MB/s\u001b[0m eta \u001b[36m0:00:00\u001b[0ma \u001b[36m0:00:01\u001b[0m\n",
      "\u001b[?25hDownloading selfies-2.1.2-py3-none-any.whl (35 kB)\n",
      "Downloading spectrum_utils-0.4.2-py3-none-any.whl (45 kB)\n",
      "Downloading torch-2.5.1-cp312-none-macosx_11_0_arm64.whl (63.9 MB)\n",
      "\u001b[2K   \u001b[90m━━━━━━━━━━━━━━━━━━━━━━━━━━━━━━━━━━━━━━━━\u001b[0m \u001b[32m63.9/63.9 MB\u001b[0m \u001b[31m29.7 MB/s\u001b[0m eta \u001b[36m0:00:00\u001b[0ma \u001b[36m0:00:01\u001b[0m\n",
      "\u001b[?25hDownloading sympy-1.13.1-py3-none-any.whl (6.2 MB)\n",
      "\u001b[2K   \u001b[90m━━━━━━━━━━━━━━━━━━━━━━━━━━━━━━━━━━━━━━━━\u001b[0m \u001b[32m6.2/6.2 MB\u001b[0m \u001b[31m36.0 MB/s\u001b[0m eta \u001b[36m0:00:00\u001b[0m\n",
      "\u001b[?25hDownloading fastobo-0.12.3-cp312-cp312-macosx_11_0_arm64.whl (1.7 MB)\n",
      "\u001b[2K   \u001b[90m━━━━━━━━━━━━━━━━━━━━━━━━━━━━━━━━━━━━━━━━\u001b[0m \u001b[32m1.7/1.7 MB\u001b[0m \u001b[31m23.6 MB/s\u001b[0m eta \u001b[36m0:00:00\u001b[0m\n",
      "\u001b[?25hInstalling collected packages: pyteomics, sympy, selfies, rdkit, polars, lark, fastobo, einops, cloudpathlib, torch, pylance, psims, spectrum-utils, depthcharge-ms\n",
      "  Attempting uninstall: sympy\n",
      "    Found existing installation: sympy 1.13.2\n",
      "    Uninstalling sympy-1.13.2:\n",
      "      Successfully uninstalled sympy-1.13.2\n",
      "Successfully installed cloudpathlib-0.20.0 depthcharge-ms-0.4.8 einops-0.8.0 fastobo-0.12.3 lark-1.2.2 polars-1.17.1 psims-1.3.4 pylance-0.20.0 pyteomics-4.7.5 rdkit-2024.3.6 selfies-2.1.2 spectrum-utils-0.4.2 sympy-1.13.1 torch-2.5.1\n"
     ]
    }
   ],
   "source": [
    "!pip install depthcharge-ms"
   ]
  },
  {
   "cell_type": "code",
   "execution_count": 1,
   "metadata": {},
   "outputs": [],
   "source": [
    "import depthcharge as dc\n",
    "from depthcharge.encoders import PeakEncoder\n",
    "from depthcharge.data import SpectrumDataset\n",
    "import torch"
   ]
  },
  {
   "cell_type": "code",
   "execution_count": 7,
   "metadata": {},
   "outputs": [],
   "source": [
    "mzml = '/Users/jhgirald/Documents/MMB/project/08CPTAC_C_GBM_W_PNNL_20210830_B2S3_f20.mzML'"
   ]
  },
  {
   "cell_type": "code",
   "execution_count": null,
   "metadata": {},
   "outputs": [
    {
     "data": {
      "application/vnd.jupyter.widget-view+json": {
       "model_id": "ab585b285cf347b7b9a56f6c4f933cd1",
       "version_major": 2,
       "version_minor": 0
      },
      "text/plain": [
       "08CPTAC_C_GBM_W_PNNL_20210830_B2S3_f20.mzML:   0%|          | 0/54852 [00:00<?, ? spectra/s]"
      ]
     },
     "metadata": {},
     "output_type": "display_data"
    }
   ],
   "source": [
    "mzml = './orbitrap_lumos/08CPTAC_C_GBM_W_PNNL_20210830_B2S3_f20.mzML'\n",
    "df = dc.data.spectra_to_df(mzml, progress=True)"
   ]
  },
  {
   "cell_type": "code",
   "execution_count": 3,
   "metadata": {},
   "outputs": [
    {
     "name": "stdout",
     "output_type": "stream",
     "text": [
      "shape: (5, 7)\n",
      "┌──────────────┬──────────────┬──────────┬──────────────┬──────────────┬─────────────┬─────────────┐\n",
      "│ peak_file    ┆ scan_id      ┆ ms_level ┆ precursor_mz ┆ precursor_ch ┆ mz_array    ┆ intensity_a │\n",
      "│ ---          ┆ ---          ┆ ---      ┆ ---          ┆ arge         ┆ ---         ┆ rray        │\n",
      "│ str          ┆ str          ┆ u8       ┆ f64          ┆ ---          ┆ list[f64]   ┆ ---         │\n",
      "│              ┆              ┆          ┆              ┆ i16          ┆             ┆ list[f64]   │\n",
      "╞══════════════╪══════════════╪══════════╪══════════════╪══════════════╪═════════════╪═════════════╡\n",
      "│ 08CPTAC_C_GB ┆ controllerTy ┆ 2        ┆ 702.865723   ┆ 2            ┆ [143.360748 ┆ [0.011069,  │\n",
      "│ M_W_PNNL_202 ┆ pe=0 control ┆          ┆              ┆              ┆ ,           ┆ 0.011332, … │\n",
      "│ 10830_…      ┆ lerNum…      ┆          ┆              ┆              ┆ 146.805038, ┆ 0.01651…    │\n",
      "│              ┆              ┆          ┆              ┆              ┆ … 703…      ┆             │\n",
      "│ 08CPTAC_C_GB ┆ controllerTy ┆ 2        ┆ 598.882507   ┆ 2            ┆ [154.233185 ┆ [0.008461,  │\n",
      "│ M_W_PNNL_202 ┆ pe=0 control ┆          ┆              ┆              ┆ ,           ┆ 0.008384, … │\n",
      "│ 10830_…      ┆ lerNum…      ┆          ┆              ┆              ┆ 156.54274,  ┆ 0.01043…    │\n",
      "│              ┆              ┆          ┆              ┆              ┆ … 599.…     ┆             │\n",
      "│ 08CPTAC_C_GB ┆ controllerTy ┆ 2        ┆ 666.372986   ┆ 2            ┆ [140.823715 ┆ [0.015466,  │\n",
      "│ M_W_PNNL_202 ┆ pe=0 control ┆          ┆              ┆              ┆ ,           ┆ 0.016554, … │\n",
      "│ 10830_…      ┆ lerNum…      ┆          ┆              ┆              ┆ 147.26712,  ┆ 0.01949…    │\n",
      "│              ┆              ┆          ┆              ┆              ┆ … 1016…     ┆             │\n",
      "│ 08CPTAC_C_GB ┆ controllerTy ┆ 2        ┆ 740.874634   ┆ 3            ┆ [144.666336 ┆ [0.012172,  │\n",
      "│ M_W_PNNL_202 ┆ pe=0 control ┆          ┆              ┆              ┆ ,           ┆ 0.014677, … │\n",
      "│ 10830_…      ┆ lerNum…      ┆          ┆              ┆              ┆ 147.241913, ┆ 0.02084…    │\n",
      "│              ┆              ┆          ┆              ┆              ┆ … 197…      ┆             │\n",
      "│ 08CPTAC_C_GB ┆ controllerTy ┆ 2        ┆ 641.843262   ┆ 2            ┆ [144.084061 ┆ [0.012475,  │\n",
      "│ M_W_PNNL_202 ┆ pe=0 control ┆          ┆              ┆              ┆ ,           ┆ 0.013307, … │\n",
      "│ 10830_…      ┆ lerNum…      ┆          ┆              ┆              ┆ 145.602966, ┆ 0.01598…    │\n",
      "│              ┆              ┆          ┆              ┆              ┆ … 105…      ┆             │\n",
      "└──────────────┴──────────────┴──────────┴──────────────┴──────────────┴─────────────┴─────────────┘\n"
     ]
    }
   ],
   "source": [
    "print(df.head())"
   ]
  },
  {
   "cell_type": "code",
   "execution_count": 4,
   "metadata": {},
   "outputs": [],
   "source": [
    "encoder = PeakEncoder(100)"
   ]
  },
  {
   "cell_type": "code",
   "execution_count": 5,
   "metadata": {},
   "outputs": [
    {
     "ename": "TypeError",
     "evalue": "PeakEncoder.forward() missing 1 required positional argument: 'X'",
     "output_type": "error",
     "traceback": [
      "\u001b[0;31m---------------------------------------------------------------------------\u001b[0m",
      "\u001b[0;31mTypeError\u001b[0m                                 Traceback (most recent call last)",
      "Cell \u001b[0;32mIn[4], line 1\u001b[0m\n\u001b[0;32m----> 1\u001b[0m \u001b[43mencoder\u001b[49m\u001b[38;5;241;43m.\u001b[39;49m\u001b[43mforward\u001b[49m\u001b[43m(\u001b[49m\u001b[43m)\u001b[49m\n",
      "\u001b[0;31mTypeError\u001b[0m: PeakEncoder.forward() missing 1 required positional argument: 'X'"
     ]
    }
   ],
   "source": []
  },
  {
   "cell_type": "code",
   "execution_count": 8,
   "metadata": {},
   "outputs": [
    {
     "name": "stderr",
     "output_type": "stream",
     "text": [
      "08CPTAC_C_GBM_W_PNNL_20210830_B2S3_f20.mzML: 100%|██████████| 54852/54852 [01:02<00:00, 878.47 spectra/s] \n"
     ]
    }
   ],
   "source": [
    "dataset = SpectrumDataset(mzml, batch_size=1000)"
   ]
  },
  {
   "cell_type": "code",
   "execution_count": 6,
   "metadata": {},
   "outputs": [
    {
     "ename": "TypeError",
     "evalue": "SpectrumDataset._to_tensor() got an unexpected keyword argument 'hf_converter'",
     "output_type": "error",
     "traceback": [
      "\u001b[0;31m---------------------------------------------------------------------------\u001b[0m",
      "\u001b[0;31mTypeError\u001b[0m                                 Traceback (most recent call last)",
      "Cell \u001b[0;32mIn[6], line 2\u001b[0m\n\u001b[1;32m      1\u001b[0m count \u001b[38;5;241m=\u001b[39m \u001b[38;5;241m0\u001b[39m\n\u001b[0;32m----> 2\u001b[0m \u001b[38;5;28;01mfor\u001b[39;00m spectrum \u001b[38;5;129;01min\u001b[39;00m dataset:\n\u001b[1;32m      3\u001b[0m     \u001b[38;5;66;03m# embeded = encoder.forward(spectrum[\"mz_array\"])\u001b[39;00m\n\u001b[1;32m      4\u001b[0m     a_spec \u001b[38;5;241m=\u001b[39m spectrum\n\u001b[1;32m      5\u001b[0m     \u001b[38;5;28;01mif\u001b[39;00m (count \u001b[38;5;241m==\u001b[39m \u001b[38;5;241m0\u001b[39m):\n",
      "File \u001b[0;32m/opt/anaconda3/lib/python3.12/site-packages/lance/torch/data.py:313\u001b[0m, in \u001b[0;36mLanceDataset.__iter__\u001b[0;34m(self)\u001b[0m\n\u001b[1;32m    311\u001b[0m \u001b[38;5;28;01mfor\u001b[39;00m batch \u001b[38;5;129;01min\u001b[39;00m stream:\n\u001b[1;32m    312\u001b[0m     \u001b[38;5;28;01mif\u001b[39;00m \u001b[38;5;28mself\u001b[39m\u001b[38;5;241m.\u001b[39m_to_tensor_fn \u001b[38;5;129;01mis\u001b[39;00m \u001b[38;5;129;01mnot\u001b[39;00m \u001b[38;5;28;01mNone\u001b[39;00m:\n\u001b[0;32m--> 313\u001b[0m         batch \u001b[38;5;241m=\u001b[39m \u001b[38;5;28mself\u001b[39m\u001b[38;5;241m.\u001b[39m_to_tensor_fn(batch, hf_converter\u001b[38;5;241m=\u001b[39m\u001b[38;5;28mself\u001b[39m\u001b[38;5;241m.\u001b[39m_hf_converter)\n\u001b[1;32m    314\u001b[0m     \u001b[38;5;28;01myield\u001b[39;00m batch\n\u001b[1;32m    315\u001b[0m     \u001b[38;5;28;01mdel\u001b[39;00m batch\n",
      "\u001b[0;31mTypeError\u001b[0m: SpectrumDataset._to_tensor() got an unexpected keyword argument 'hf_converter'"
     ]
    }
   ],
   "source": [
    "count = 0\n",
    "for spectrum in dataset:\n",
    "    # embeded = encoder.forward(spectrum[\"mz_array\"])\n",
    "    a_spec = spectrum\n",
    "    if (count == 0):\n",
    "        break  \n",
    "    count += 1"
   ]
  },
  {
   "cell_type": "code",
   "execution_count": 7,
   "metadata": {},
   "outputs": [
    {
     "ename": "NameError",
     "evalue": "name 'a_spec' is not defined",
     "output_type": "error",
     "traceback": [
      "\u001b[0;31m---------------------------------------------------------------------------\u001b[0m",
      "\u001b[0;31mNameError\u001b[0m                                 Traceback (most recent call last)",
      "Cell \u001b[0;32mIn[7], line 1\u001b[0m\n\u001b[0;32m----> 1\u001b[0m mz_values \u001b[38;5;241m=\u001b[39m a_spec[\u001b[38;5;124m\"\u001b[39m\u001b[38;5;124mmz_array\u001b[39m\u001b[38;5;124m\"\u001b[39m][\u001b[38;5;241m0\u001b[39m]\n\u001b[1;32m      2\u001b[0m intensities \u001b[38;5;241m=\u001b[39m a_spec[\u001b[38;5;124m\"\u001b[39m\u001b[38;5;124mintensity_array\u001b[39m\u001b[38;5;124m\"\u001b[39m][\u001b[38;5;241m0\u001b[39m]\n\u001b[1;32m      3\u001b[0m peaks \u001b[38;5;241m=\u001b[39m \u001b[38;5;28mlist\u001b[39m(\u001b[38;5;28mzip\u001b[39m(mz_values, intensities))\n",
      "\u001b[0;31mNameError\u001b[0m: name 'a_spec' is not defined"
     ]
    }
   ],
   "source": [
    "mz_values = a_spec[\"mz_array\"][0]\n",
    "intensities = a_spec[\"intensity_array\"][0]\n",
    "peaks = list(zip(mz_values, intensities))\n"
   ]
  },
  {
   "cell_type": "code",
   "execution_count": 8,
   "metadata": {},
   "outputs": [
    {
     "ename": "NameError",
     "evalue": "name 'mz_values' is not defined",
     "output_type": "error",
     "traceback": [
      "\u001b[0;31m---------------------------------------------------------------------------\u001b[0m",
      "\u001b[0;31mNameError\u001b[0m                                 Traceback (most recent call last)",
      "Cell \u001b[0;32mIn[8], line 1\u001b[0m\n\u001b[0;32m----> 1\u001b[0m mz_values[\u001b[38;5;241m0\u001b[39m]\n",
      "\u001b[0;31mNameError\u001b[0m: name 'mz_values' is not defined"
     ]
    }
   ],
   "source": [
    "mz_values[0]"
   ]
  },
  {
   "cell_type": "code",
   "execution_count": 9,
   "metadata": {},
   "outputs": [
    {
     "ename": "NameError",
     "evalue": "name 'peaks' is not defined",
     "output_type": "error",
     "traceback": [
      "\u001b[0;31m---------------------------------------------------------------------------\u001b[0m",
      "\u001b[0;31mNameError\u001b[0m                                 Traceback (most recent call last)",
      "Cell \u001b[0;32mIn[9], line 1\u001b[0m\n\u001b[0;32m----> 1\u001b[0m test1 \u001b[38;5;241m=\u001b[39m torch\u001b[38;5;241m.\u001b[39mtensor([peaks])\n",
      "\u001b[0;31mNameError\u001b[0m: name 'peaks' is not defined"
     ]
    }
   ],
   "source": [
    "test1 = torch.tensor([peaks])"
   ]
  },
  {
   "cell_type": "code",
   "execution_count": 10,
   "metadata": {},
   "outputs": [
    {
     "ename": "NameError",
     "evalue": "name 'test1' is not defined",
     "output_type": "error",
     "traceback": [
      "\u001b[0;31m---------------------------------------------------------------------------\u001b[0m",
      "\u001b[0;31mNameError\u001b[0m                                 Traceback (most recent call last)",
      "Cell \u001b[0;32mIn[10], line 1\u001b[0m\n\u001b[0;32m----> 1\u001b[0m encoded_test1 \u001b[38;5;241m=\u001b[39m encoder\u001b[38;5;241m.\u001b[39mforward(test1)\n",
      "\u001b[0;31mNameError\u001b[0m: name 'test1' is not defined"
     ]
    }
   ],
   "source": [
    "encoded_test1 = encoder.forward(test1)"
   ]
  },
  {
   "cell_type": "code",
   "execution_count": 104,
   "metadata": {},
   "outputs": [
    {
     "data": {
      "text/plain": [
       "torch.Size([1, 45, 100])"
      ]
     },
     "execution_count": 104,
     "metadata": {},
     "output_type": "execute_result"
    }
   ],
   "source": [
    "encoded_test1.shape"
   ]
  },
  {
   "cell_type": "code",
   "execution_count": 13,
   "metadata": {},
   "outputs": [
    {
     "name": "stdout",
     "output_type": "stream",
     "text": [
      "torch.Size([1000, 201, 128])\n"
     ]
    }
   ],
   "source": [
    "from torch.utils.data import DataLoader\n",
    "from depthcharge.transformers import SpectrumTransformerEncoder\n",
    "\n",
    "model = SpectrumTransformerEncoder()\n",
    "# Grab the first 1000 spectra for testing\n",
    "b_size = 1000\n",
    "# loader = DataLoader(dataset, batch_size=None)\n",
    "# batch1 = next(dataset)\n",
    "for batch in dataset:\n",
    "    out = model(batch[\"mz_array\"], batch[\"intensity_array\"])\n",
    "    print(out[0].shape)\n",
    "    break\n",
    "#for batch in loader:\n",
    "#    print(batch[\"scan_id\"], batch[\"precursor_mz\"])"
   ]
  },
  {
   "cell_type": "code",
   "execution_count": 21,
   "metadata": {},
   "outputs": [
    {
     "data": {
      "text/plain": [
       "(tensor([[[-1.5370,  0.1572,  0.0553,  ..., -1.8717,  1.1506,  0.7468],\n",
       "          [ 1.6614,  1.3637,  0.4146,  ..., -2.2672, -1.6920,  0.4894],\n",
       "          [ 1.7226,  0.2232, -0.9428,  ..., -1.4241, -1.6221,  0.1365],\n",
       "          ...,\n",
       "          [-0.7916,  0.3867, -0.7404,  ..., -0.9409,  0.9512,  1.1092],\n",
       "          [-0.7916,  0.3867, -0.7404,  ..., -0.9409,  0.9512,  1.1092],\n",
       "          [-0.7916,  0.3867, -0.7404,  ..., -0.9409,  0.9512,  1.1092]],\n",
       " \n",
       "         [[-0.8090,  1.2076,  0.7267,  ..., -0.2241,  0.2696,  1.4388],\n",
       "          [ 0.3395,  1.5272, -0.8977,  ..., -2.0462, -0.3872, -0.8355],\n",
       "          [-0.2187,  0.4385,  0.2705,  ...,  0.0463,  0.0697, -0.2146],\n",
       "          ...,\n",
       "          [-0.6813,  0.5600, -0.6415,  ..., -0.6473,  0.8012,  1.2213],\n",
       "          [-0.6813,  0.5600, -0.6415,  ..., -0.6473,  0.8012,  1.2213],\n",
       "          [-0.6813,  0.5600, -0.6415,  ..., -0.6473,  0.8012,  1.2213]],\n",
       " \n",
       "         [[-1.6003, -0.3274, -0.3987,  ..., -0.6660,  0.7142,  1.0579],\n",
       "          [ 0.7310,  1.4122, -2.0463,  ..., -1.3514, -0.3082, -0.4802],\n",
       "          [-0.1782, -1.7650, -1.3544,  ...,  0.1263, -1.1838, -1.0821],\n",
       "          ...,\n",
       "          [-0.8580,  0.3116, -0.8207,  ..., -0.7408,  0.8716,  1.1687],\n",
       "          [-0.8580,  0.3116, -0.8207,  ..., -0.7408,  0.8716,  1.1687],\n",
       "          [-0.8580,  0.3116, -0.8207,  ..., -0.7408,  0.8716,  1.1687]],\n",
       " \n",
       "         ...,\n",
       " \n",
       "         [[-1.6331,  0.9075,  0.7606,  ..., -0.7509,  0.5487,  0.8730],\n",
       "          [ 0.8236,  1.5445, -0.7906,  ...,  0.4529, -0.4150,  1.3960],\n",
       "          [ 0.3762,  0.6245, -0.5450,  ..., -0.5011, -1.2924,  0.3014],\n",
       "          ...,\n",
       "          [-0.8734,  0.5147, -0.5850,  ..., -0.7554,  0.8835,  1.1599],\n",
       "          [-0.8734,  0.5147, -0.5850,  ..., -0.7554,  0.8835,  1.1599],\n",
       "          [-0.8734,  0.5147, -0.5850,  ..., -0.7554,  0.8835,  1.1599]],\n",
       " \n",
       "         [[-1.2729,  0.6897,  0.6674,  ..., -0.5105, -0.1988,  1.6211],\n",
       "          [ 1.2386,  1.0785, -0.7911,  ...,  0.7970, -0.5828, -0.7130],\n",
       "          [-0.3839, -0.6756, -1.2394,  ..., -0.8533, -1.3183,  0.0417],\n",
       "          ...,\n",
       "          [-0.7859,  0.4622, -0.6296,  ..., -0.6700,  0.7425,  1.2572],\n",
       "          [-0.7859,  0.4622, -0.6296,  ..., -0.6700,  0.7425,  1.2572],\n",
       "          [-0.7859,  0.4622, -0.6296,  ..., -0.6700,  0.7425,  1.2572]],\n",
       " \n",
       "         [[-0.7074,  0.4597,  0.4043,  ..., -0.6885,  0.0483,  2.0655],\n",
       "          [ 0.1610, -0.4869, -2.2698,  ..., -0.1702, -1.5042,  0.1036],\n",
       "          [ 0.1530,  0.1267,  0.0643,  ...,  0.3739, -0.3501, -0.6541],\n",
       "          ...,\n",
       "          [-0.6611,  0.4217, -0.6698,  ..., -0.7374,  0.8103,  1.3233],\n",
       "          [-0.6611,  0.4217, -0.6698,  ..., -0.7374,  0.8103,  1.3233],\n",
       "          [-0.6611,  0.4217, -0.6698,  ..., -0.7374,  0.8103,  1.3233]]],\n",
       "        grad_fn=<NativeLayerNormBackward0>),\n",
       " tensor([[False, False, False,  ...,  True,  True,  True],\n",
       "         [False, False, False,  ...,  True,  True,  True],\n",
       "         [False, False, False,  ...,  True,  True,  True],\n",
       "         ...,\n",
       "         [False, False, False,  ...,  True,  True,  True],\n",
       "         [False, False, False,  ...,  True,  True,  True],\n",
       "         [False, False, False,  ...,  True,  True,  True]]))"
      ]
     },
     "execution_count": 21,
     "metadata": {},
     "output_type": "execute_result"
    }
   ],
   "source": [
    "out"
   ]
  }
 ],
 "metadata": {
  "kernelspec": {
   "display_name": "Python 3",
   "language": "python",
   "name": "python3"
  },
  "language_info": {
   "codemirror_mode": {
    "name": "ipython",
    "version": 3
   },
   "file_extension": ".py",
   "mimetype": "text/x-python",
   "name": "python",
   "nbconvert_exporter": "python",
   "pygments_lexer": "ipython3",
   "version": "3.12.2"
  }
 },
 "nbformat": 4,
 "nbformat_minor": 2
}
