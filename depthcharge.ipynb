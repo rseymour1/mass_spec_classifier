{
 "cells": [
  {
   "cell_type": "code",
   "execution_count": 1,
   "metadata": {},
   "outputs": [
    {
     "name": "stderr",
     "output_type": "stream",
     "text": [
      "/Users/jhgirald/mambaforge/envs/depthcharge/lib/python3.10/site-packages/tqdm/auto.py:21: TqdmWarning: IProgress not found. Please update jupyter and ipywidgets. See https://ipywidgets.readthedocs.io/en/stable/user_install.html\n",
      "  from .autonotebook import tqdm as notebook_tqdm\n"
     ]
    }
   ],
   "source": [
    "import depthcharge as dc\n",
    "from depthcharge.encoders import PeakEncoder\n",
    "from depthcharge.data import SpectrumDataset\n",
    "import torch"
   ]
  },
  {
   "cell_type": "code",
   "execution_count": null,
   "metadata": {},
   "outputs": [],
   "source": [
    "mzml = './08CPTAC_C_GBM_W_PNNL_20210830_B2S3_f20.mzML'"
   ]
  },
  {
   "cell_type": "code",
   "execution_count": null,
   "metadata": {},
   "outputs": [
    {
     "name": "stderr",
     "output_type": "stream",
     "text": [
      "08CPTAC_C_GBM_W_PNNL_20210830_B2S3_f20.mzML: 100%|██████████| 54852/54852 [01:05<00:00, 838.09 spectra/s] \n"
     ]
    }
   ],
   "source": [
    "df = dc.data.spectra_to_df(mzml, progress=True)"
   ]
  },
  {
   "cell_type": "code",
   "execution_count": 6,
   "metadata": {},
   "outputs": [
    {
     "name": "stdout",
     "output_type": "stream",
     "text": [
      "shape: (5, 7)\n",
      "┌──────────────┬──────────────┬──────────┬──────────────┬──────────────┬─────────────┬─────────────┐\n",
      "│ peak_file    ┆ scan_id      ┆ ms_level ┆ precursor_mz ┆ precursor_ch ┆ mz_array    ┆ intensity_a │\n",
      "│ ---          ┆ ---          ┆ ---      ┆ ---          ┆ arge         ┆ ---         ┆ rray        │\n",
      "│ str          ┆ str          ┆ u8       ┆ f64          ┆ ---          ┆ list[f64]   ┆ ---         │\n",
      "│              ┆              ┆          ┆              ┆ i16          ┆             ┆ list[f64]   │\n",
      "╞══════════════╪══════════════╪══════════╪══════════════╪══════════════╪═════════════╪═════════════╡\n",
      "│ 08CPTAC_C_GB ┆ controllerTy ┆ 2        ┆ 702.865723   ┆ 2            ┆ [143.360748 ┆ [0.011069,  │\n",
      "│ M_W_PNNL_202 ┆ pe=0 control ┆          ┆              ┆              ┆ ,           ┆ 0.011332, … │\n",
      "│ 10830_…      ┆ lerNum…      ┆          ┆              ┆              ┆ 146.805038, ┆ 0.01651…    │\n",
      "│              ┆              ┆          ┆              ┆              ┆ … 703…      ┆             │\n",
      "│ 08CPTAC_C_GB ┆ controllerTy ┆ 2        ┆ 598.882507   ┆ 2            ┆ [154.233185 ┆ [0.008461,  │\n",
      "│ M_W_PNNL_202 ┆ pe=0 control ┆          ┆              ┆              ┆ ,           ┆ 0.008384, … │\n",
      "│ 10830_…      ┆ lerNum…      ┆          ┆              ┆              ┆ 156.54274,  ┆ 0.01043…    │\n",
      "│              ┆              ┆          ┆              ┆              ┆ … 599.…     ┆             │\n",
      "│ 08CPTAC_C_GB ┆ controllerTy ┆ 2        ┆ 666.372986   ┆ 2            ┆ [140.823715 ┆ [0.015466,  │\n",
      "│ M_W_PNNL_202 ┆ pe=0 control ┆          ┆              ┆              ┆ ,           ┆ 0.016554, … │\n",
      "│ 10830_…      ┆ lerNum…      ┆          ┆              ┆              ┆ 147.26712,  ┆ 0.01949…    │\n",
      "│              ┆              ┆          ┆              ┆              ┆ … 1016…     ┆             │\n",
      "│ 08CPTAC_C_GB ┆ controllerTy ┆ 2        ┆ 740.874634   ┆ 3            ┆ [144.666336 ┆ [0.012172,  │\n",
      "│ M_W_PNNL_202 ┆ pe=0 control ┆          ┆              ┆              ┆ ,           ┆ 0.014677, … │\n",
      "│ 10830_…      ┆ lerNum…      ┆          ┆              ┆              ┆ 147.241913, ┆ 0.02084…    │\n",
      "│              ┆              ┆          ┆              ┆              ┆ … 197…      ┆             │\n",
      "│ 08CPTAC_C_GB ┆ controllerTy ┆ 2        ┆ 641.843262   ┆ 2            ┆ [144.084061 ┆ [0.012475,  │\n",
      "│ M_W_PNNL_202 ┆ pe=0 control ┆          ┆              ┆              ┆ ,           ┆ 0.013307, … │\n",
      "│ 10830_…      ┆ lerNum…      ┆          ┆              ┆              ┆ 145.602966, ┆ 0.01598…    │\n",
      "│              ┆              ┆          ┆              ┆              ┆ … 105…      ┆             │\n",
      "└──────────────┴──────────────┴──────────┴──────────────┴──────────────┴─────────────┴─────────────┘\n"
     ]
    }
   ],
   "source": [
    "print(df.head())"
   ]
  },
  {
   "cell_type": "code",
   "execution_count": 3,
   "metadata": {},
   "outputs": [],
   "source": [
    "encoder = PeakEncoder(100)"
   ]
  },
  {
   "cell_type": "code",
   "execution_count": null,
   "metadata": {},
   "outputs": [
    {
     "ename": "TypeError",
     "evalue": "PeakEncoder.forward() missing 1 required positional argument: 'X'",
     "output_type": "error",
     "traceback": [
      "\u001b[0;31m---------------------------------------------------------------------------\u001b[0m",
      "\u001b[0;31mTypeError\u001b[0m                                 Traceback (most recent call last)",
      "Cell \u001b[0;32mIn[4], line 1\u001b[0m\n\u001b[0;32m----> 1\u001b[0m \u001b[43mencoder\u001b[49m\u001b[38;5;241;43m.\u001b[39;49m\u001b[43mforward\u001b[49m\u001b[43m(\u001b[49m\u001b[43m)\u001b[49m\n",
      "\u001b[0;31mTypeError\u001b[0m: PeakEncoder.forward() missing 1 required positional argument: 'X'"
     ]
    }
   ],
   "source": []
  },
  {
   "cell_type": "code",
   "execution_count": 55,
   "metadata": {},
   "outputs": [
    {
     "name": "stderr",
     "output_type": "stream",
     "text": [
      "08CPTAC_C_GBM_W_PNNL_20210830_B2S3_f20.mzML: 100%|██████████| 54852/54852 [01:03<00:00, 865.49 spectra/s] \n"
     ]
    }
   ],
   "source": [
    "dataset = SpectrumDataset(mzml, batch_size=1)"
   ]
  },
  {
   "cell_type": "code",
   "execution_count": 56,
   "metadata": {},
   "outputs": [],
   "source": [
    "count = 0\n",
    "for spectrum in dataset:\n",
    "    # embeded = encoder.forward(spectrum[\"mz_array\"])\n",
    "    a_spec = spectrum\n",
    "    if (count == 0):\n",
    "        break  \n",
    "    count += 1"
   ]
  },
  {
   "cell_type": "code",
   "execution_count": null,
   "metadata": {},
   "outputs": [
    {
     "data": {
      "text/plain": [
       "tensor(143.3607)"
      ]
     },
     "execution_count": 72,
     "metadata": {},
     "output_type": "execute_result"
    }
   ],
   "source": [
    "mz_values = a_spec[\"mz_array\"][0]\n",
    "intensities = a_spec[\"intensity_array\"][0]\n",
    "peaks = list(zip(mz_values, intensities))\n"
   ]
  },
  {
   "cell_type": "code",
   "execution_count": 73,
   "metadata": {},
   "outputs": [
    {
     "data": {
      "text/plain": [
       "tensor(143.3607)"
      ]
     },
     "execution_count": 73,
     "metadata": {},
     "output_type": "execute_result"
    }
   ],
   "source": [
    "mz_values[0]"
   ]
  },
  {
   "cell_type": "code",
   "execution_count": 86,
   "metadata": {},
   "outputs": [],
   "source": [
    "test1 = torch.tensor([peaks])"
   ]
  },
  {
   "cell_type": "code",
   "execution_count": 89,
   "metadata": {},
   "outputs": [],
   "source": [
    "encoded_test1 = encoder.forward(test1)"
   ]
  },
  {
   "cell_type": "code",
   "execution_count": 104,
   "metadata": {},
   "outputs": [
    {
     "data": {
      "text/plain": [
       "torch.Size([1, 45, 100])"
      ]
     },
     "execution_count": 104,
     "metadata": {},
     "output_type": "execute_result"
    }
   ],
   "source": [
    "encoded_test1.shape"
   ]
  },
  {
   "cell_type": "code",
   "execution_count": null,
   "metadata": {},
   "outputs": [],
   "source": [
    "from torch.utils.data import DataLoader\n",
    "# Grab the first 1000 spectra for testing\n",
    "b_size = 1000\n",
    "loader = DataLoader(dataset, batch_size=b_size)\n",
    "batch1 = next(loader)\n",
    "for spectrum in batch1:\n",
    "    print(spectrum[\"scan_id\"], spectrum[\"precursor_mz\"])\n",
    "#for batch in loader:\n",
    "#    print(batch[\"scan_id\"], batch[\"precursor_mz\"])"
   ]
  },
  {
   "cell_type": "code",
   "execution_count": null,
   "metadata": {},
   "outputs": [],
   "source": [
    "from depthcharge.transformers import SpectrumTransformerEncoder\n",
    "\n",
    "model = SpectrumTransformerEncoder()\n",
    "\n",
    "for spectrum in batch1:\n",
    "    out = model(spectrum[\"mz_array\"], spectrum[\"intensity_array\"])\n",
    "    print(out[0].shape)"
   ]
  },
  {
   "cell_type": "code",
   "execution_count": 108,
   "metadata": {},
   "outputs": [
    {
     "data": {
      "text/plain": [
       "{'peak_file': ['08CPTAC_C_GBM_W_PNNL_20210830_B2S3_f20.mzML'],\n",
       " 'scan_id': ['controllerType=0 controllerNumber=1 scan=3'],\n",
       " 'ms_level': tensor([2]),\n",
       " 'precursor_mz': tensor([702.8657]),\n",
       " 'precursor_charge': tensor([2]),\n",
       " 'mz_array': tensor([[143.3607, 146.8050, 147.2722, 147.2807, 147.2852, 147.2894, 147.2937,\n",
       "          147.2980, 147.3029, 147.3077, 147.3119, 147.3163, 147.3207, 147.3334,\n",
       "          147.3418, 147.3460, 147.3588, 148.6228, 158.9645, 159.1379, 161.2886,\n",
       "          162.1416, 166.9971, 178.3022, 224.3828, 224.7380, 225.0246, 226.9520,\n",
       "          267.7671, 278.9416, 288.9223, 294.9396, 316.4719, 325.7886, 331.7681,\n",
       "          362.9273, 362.9613, 430.9147, 436.7301, 498.8658, 498.8928, 647.7494,\n",
       "          702.6880, 702.8170, 703.2111]]),\n",
       " 'intensity_array': tensor([[0.0111, 0.0113, 0.0125, 0.0143, 0.0167, 0.0218, 0.0202, 0.0314, 0.0351,\n",
       "          0.0257, 0.0190, 0.0197, 0.0131, 0.0114, 0.0125, 0.0133, 0.0138, 0.0135,\n",
       "          0.0534, 0.0124, 0.0126, 0.0116, 0.0118, 0.0242, 0.0134, 0.0133, 0.0128,\n",
       "          0.1565, 0.0131, 0.0141, 0.0141, 0.0437, 0.0138, 0.0128, 0.0135, 0.0750,\n",
       "          0.0130, 0.0344, 0.0131, 0.0179, 0.0174, 0.0134, 0.0143, 0.0215, 0.0165]])}"
      ]
     },
     "execution_count": 108,
     "metadata": {},
     "output_type": "execute_result"
    }
   ],
   "source": [
    "a_spec\n"
   ]
  }
 ],
 "metadata": {
  "kernelspec": {
   "display_name": "depthcharge",
   "language": "python",
   "name": "python3"
  },
  "language_info": {
   "codemirror_mode": {
    "name": "ipython",
    "version": 3
   },
   "file_extension": ".py",
   "mimetype": "text/x-python",
   "name": "python",
   "nbconvert_exporter": "python",
   "pygments_lexer": "ipython3",
   "version": "3.10.16"
  }
 },
 "nbformat": 4,
 "nbformat_minor": 2
}
