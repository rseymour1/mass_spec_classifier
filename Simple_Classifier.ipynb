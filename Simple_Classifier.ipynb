{
 "cells": [
  {
   "cell_type": "code",
   "execution_count": 6,
   "metadata": {},
   "outputs": [],
   "source": [
    "import torch\n",
    "import torch.nn as nn\n",
    "import torch.optim as optim\n",
    "import depthcharge as dc\n",
    "import numpy as np\n",
    "from depthcharge.encoders import PeakEncoder\n",
    "from depthcharge.data import SpectrumDataset, StreamingSpectrumDataset"
   ]
  },
  {
   "cell_type": "markdown",
   "metadata": {},
   "source": [
    "This method works, but not ideal."
   ]
  },
  {
   "cell_type": "code",
   "execution_count": 21,
   "metadata": {},
   "outputs": [
    {
     "name": "stderr",
     "output_type": "stream",
     "text": [
      "08CPTAC_C_GBM_W_PNNL_20210830_B2S3_f20.mzML: 100%|██████████| 54852/54852 [00:25<00:00, 2118.90 spectra/s]\n"
     ]
    }
   ],
   "source": [
    "mzml = './orbitrap_lumos/08CPTAC_C_GBM_W_PNNL_20210830_B2S3_f20.mzML' #'..//08CPTAC_C_GBM_W_PNNL_20210830_B2S3_f20.mzML'\n",
    "\n",
    "dataset = SpectrumDataset(mzml, batch_size=54852)\n",
    "encoder = PeakEncoder(100)"
   ]
  },
  {
   "cell_type": "markdown",
   "metadata": {},
   "source": [
    "This is the ideal way to read in spectra for the problem we are trying to solve, but I'll see if I can get it to work."
   ]
  },
  {
   "cell_type": "code",
   "execution_count": 29,
   "metadata": {},
   "outputs": [
    {
     "name": "stderr",
     "output_type": "stream",
     "text": [
      "BD20180604_PTRC_DP1-Microscale_SS_Plex3_Proteome_F20.mzML: 100%|██████████| 49246/49246 [00:19<00:00, 2581.68 spectra/s]\n",
      "08CPTAC_C_GBM_W_PNNL_20210830_B2S3_f20.mzML: 100%|██████████| 54852/54852 [00:25<00:00, 2189.76 spectra/s]\n"
     ]
    },
    {
     "ename": "UnicodeDecodeError",
     "evalue": "'utf-8' codec can't decode byte 0x9b in position 367: invalid start byte",
     "output_type": "error",
     "traceback": [
      "\u001b[0;31m---------------------------------------------------------------------------\u001b[0m",
      "\u001b[0;31mUnicodeDecodeError\u001b[0m                        Traceback (most recent call last)",
      "Cell \u001b[0;32mIn[29], line 39\u001b[0m\n\u001b[1;32m     36\u001b[0m all_labels \u001b[38;5;241m=\u001b[39m \u001b[38;5;28mlist\u001b[39m()\n\u001b[1;32m     37\u001b[0m \u001b[38;5;28;01mfor\u001b[39;00m mzml_file \u001b[38;5;129;01min\u001b[39;00m all_mzmls:\n\u001b[1;32m     38\u001b[0m     \u001b[38;5;66;03m# Preprocess the mzML file\u001b[39;00m\n\u001b[0;32m---> 39\u001b[0m     df \u001b[38;5;241m=\u001b[39m \u001b[43mdc\u001b[49m\u001b[38;5;241;43m.\u001b[39;49m\u001b[43mdata\u001b[49m\u001b[38;5;241;43m.\u001b[39;49m\u001b[43mspectra_to_df\u001b[49m\u001b[43m(\u001b[49m\n\u001b[1;32m     40\u001b[0m \u001b[43m        \u001b[49m\u001b[43mmzml_file\u001b[49m\u001b[43m,\u001b[49m\n\u001b[1;32m     41\u001b[0m \u001b[43m        \u001b[49m\u001b[43mprogress\u001b[49m\u001b[38;5;241;43m=\u001b[39;49m\u001b[38;5;28;43;01mTrue\u001b[39;49;00m\u001b[43m,\u001b[49m\n\u001b[1;32m     42\u001b[0m \u001b[43m        \u001b[49m\u001b[43mpreprocessing_fn\u001b[49m\u001b[38;5;241;43m=\u001b[39;49m\u001b[43mprocessing_fn\u001b[49m\n\u001b[1;32m     43\u001b[0m \u001b[43m    \u001b[49m\u001b[43m)\u001b[49m\n\u001b[1;32m     45\u001b[0m     \u001b[38;5;66;03m# Encode peaks\u001b[39;00m\n\u001b[1;32m     46\u001b[0m     encoder \u001b[38;5;241m=\u001b[39m PeakEncoder(\u001b[38;5;241m100\u001b[39m)\n",
      "File \u001b[0;32m~/Documents/mass_spec_classifier/dc_env/lib/python3.12/site-packages/depthcharge/data/arrow.py:310\u001b[0m, in \u001b[0;36mspectra_to_df\u001b[0;34m(peak_file, metadata_df, ms_level, preprocessing_fn, valid_charge, custom_fields, progress)\u001b[0m\n\u001b[1;32m    240\u001b[0m \u001b[38;5;250m\u001b[39m\u001b[38;5;124;03m\"\"\"Read mass spectra into a Polars DataFrame.\u001b[39;00m\n\u001b[1;32m    241\u001b[0m \n\u001b[1;32m    242\u001b[0m \u001b[38;5;124;03mApache Parquet is a space efficient, columnar data storage format\u001b[39;00m\n\u001b[0;32m   (...)\u001b[0m\n\u001b[1;32m    297\u001b[0m \n\u001b[1;32m    298\u001b[0m \u001b[38;5;124;03m\"\"\"\u001b[39;00m\n\u001b[1;32m    299\u001b[0m streamer \u001b[38;5;241m=\u001b[39m spectra_to_stream(\n\u001b[1;32m    300\u001b[0m     peak_file\u001b[38;5;241m=\u001b[39mpeak_file,\n\u001b[1;32m    301\u001b[0m     batch_size\u001b[38;5;241m=\u001b[39m\u001b[38;5;28;01mNone\u001b[39;00m,\n\u001b[0;32m   (...)\u001b[0m\n\u001b[1;32m    307\u001b[0m     progress\u001b[38;5;241m=\u001b[39mprogress,\n\u001b[1;32m    308\u001b[0m )\n\u001b[0;32m--> 310\u001b[0m \u001b[38;5;28;01mreturn\u001b[39;00m \u001b[43mpl\u001b[49m\u001b[38;5;241;43m.\u001b[39;49m\u001b[43mfrom_arrow\u001b[49m\u001b[43m(\u001b[49m\u001b[43mstreamer\u001b[49m\u001b[43m)\u001b[49m\n",
      "File \u001b[0;32m~/Documents/mass_spec_classifier/dc_env/lib/python3.12/site-packages/polars/convert/general.py:459\u001b[0m, in \u001b[0;36mfrom_arrow\u001b[0;34m(data, schema, schema_overrides, rechunk)\u001b[0m\n\u001b[1;32m    453\u001b[0m     \u001b[38;5;28;01mreturn\u001b[39;00m pl\u001b[38;5;241m.\u001b[39mDataFrame(\n\u001b[1;32m    454\u001b[0m         schema\u001b[38;5;241m=\u001b[39mschema,\n\u001b[1;32m    455\u001b[0m         schema_overrides\u001b[38;5;241m=\u001b[39mschema_overrides,\n\u001b[1;32m    456\u001b[0m     )\n\u001b[1;32m    458\u001b[0m \u001b[38;5;28;01mif\u001b[39;00m \u001b[38;5;28misinstance\u001b[39m(data, Iterable):\n\u001b[0;32m--> 459\u001b[0m     pa_table \u001b[38;5;241m=\u001b[39m \u001b[43mpa\u001b[49m\u001b[38;5;241;43m.\u001b[39;49m\u001b[43mTable\u001b[49m\u001b[38;5;241;43m.\u001b[39;49m\u001b[43mfrom_batches\u001b[49m\u001b[43m(\u001b[49m\n\u001b[1;32m    460\u001b[0m \u001b[43m        \u001b[49m\u001b[43mitertools\u001b[49m\u001b[38;5;241;43m.\u001b[39;49m\u001b[43mchain\u001b[49m\u001b[38;5;241;43m.\u001b[39;49m\u001b[43mfrom_iterable\u001b[49m\u001b[43m(\u001b[49m\n\u001b[1;32m    461\u001b[0m \u001b[43m            \u001b[49m\u001b[43m(\u001b[49m\u001b[43mb\u001b[49m\u001b[38;5;241;43m.\u001b[39;49m\u001b[43mto_batches\u001b[49m\u001b[43m(\u001b[49m\u001b[43m)\u001b[49m\u001b[43m \u001b[49m\u001b[38;5;28;43;01mif\u001b[39;49;00m\u001b[43m \u001b[49m\u001b[38;5;28;43misinstance\u001b[39;49m\u001b[43m(\u001b[49m\u001b[43mb\u001b[49m\u001b[43m,\u001b[49m\u001b[43m \u001b[49m\u001b[43mpa\u001b[49m\u001b[38;5;241;43m.\u001b[39;49m\u001b[43mTable\u001b[49m\u001b[43m)\u001b[49m\u001b[43m \u001b[49m\u001b[38;5;28;43;01melse\u001b[39;49;00m\u001b[43m \u001b[49m\u001b[43m[\u001b[49m\u001b[43mb\u001b[49m\u001b[43m]\u001b[49m\u001b[43m)\u001b[49m\u001b[43m \u001b[49m\u001b[38;5;28;43;01mfor\u001b[39;49;00m\u001b[43m \u001b[49m\u001b[43mb\u001b[49m\u001b[43m \u001b[49m\u001b[38;5;129;43;01min\u001b[39;49;00m\u001b[43m \u001b[49m\u001b[43mdata\u001b[49m\n\u001b[1;32m    462\u001b[0m \u001b[43m        \u001b[49m\u001b[43m)\u001b[49m\n\u001b[1;32m    463\u001b[0m \u001b[43m    \u001b[49m\u001b[43m)\u001b[49m\n\u001b[1;32m    464\u001b[0m     \u001b[38;5;28;01mreturn\u001b[39;00m wrap_df(\n\u001b[1;32m    465\u001b[0m         arrow_to_pydf(\n\u001b[1;32m    466\u001b[0m             data\u001b[38;5;241m=\u001b[39mpa_table,\n\u001b[0;32m   (...)\u001b[0m\n\u001b[1;32m    470\u001b[0m         )\n\u001b[1;32m    471\u001b[0m     )\n\u001b[1;32m    473\u001b[0m msg \u001b[38;5;241m=\u001b[39m \u001b[38;5;124mf\u001b[39m\u001b[38;5;124m\"\u001b[39m\u001b[38;5;124mexpected PyArrow Table, Array, or one or more RecordBatches; got \u001b[39m\u001b[38;5;132;01m{\u001b[39;00m\u001b[38;5;28mtype\u001b[39m(data)\u001b[38;5;241m.\u001b[39m\u001b[38;5;18m__name__\u001b[39m\u001b[38;5;132;01m!r}\u001b[39;00m\u001b[38;5;124m\"\u001b[39m\n",
      "File \u001b[0;32m~/Documents/mass_spec_classifier/dc_env/lib/python3.12/site-packages/pyarrow/table.pxi:4982\u001b[0m, in \u001b[0;36mpyarrow.lib.Table.from_batches\u001b[0;34m()\u001b[0m\n",
      "File \u001b[0;32m~/Documents/mass_spec_classifier/dc_env/lib/python3.12/site-packages/polars/convert/general.py:460\u001b[0m, in \u001b[0;36m<genexpr>\u001b[0;34m(.0)\u001b[0m\n\u001b[1;32m    453\u001b[0m     \u001b[38;5;28;01mreturn\u001b[39;00m pl\u001b[38;5;241m.\u001b[39mDataFrame(\n\u001b[1;32m    454\u001b[0m         schema\u001b[38;5;241m=\u001b[39mschema,\n\u001b[1;32m    455\u001b[0m         schema_overrides\u001b[38;5;241m=\u001b[39mschema_overrides,\n\u001b[1;32m    456\u001b[0m     )\n\u001b[1;32m    458\u001b[0m \u001b[38;5;28;01mif\u001b[39;00m \u001b[38;5;28misinstance\u001b[39m(data, Iterable):\n\u001b[1;32m    459\u001b[0m     pa_table \u001b[38;5;241m=\u001b[39m pa\u001b[38;5;241m.\u001b[39mTable\u001b[38;5;241m.\u001b[39mfrom_batches(\n\u001b[0;32m--> 460\u001b[0m         itertools\u001b[38;5;241m.\u001b[39mchain\u001b[38;5;241m.\u001b[39mfrom_iterable\u001b[43m(\u001b[49m\n\u001b[1;32m    461\u001b[0m \u001b[43m            \u001b[49m\u001b[43m(\u001b[49m\u001b[43mb\u001b[49m\u001b[38;5;241;43m.\u001b[39;49m\u001b[43mto_batches\u001b[49m\u001b[43m(\u001b[49m\u001b[43m)\u001b[49m\u001b[43m \u001b[49m\u001b[38;5;28;43;01mif\u001b[39;49;00m\u001b[43m \u001b[49m\u001b[38;5;28;43misinstance\u001b[39;49m\u001b[43m(\u001b[49m\u001b[43mb\u001b[49m\u001b[43m,\u001b[49m\u001b[43m \u001b[49m\u001b[43mpa\u001b[49m\u001b[38;5;241;43m.\u001b[39;49m\u001b[43mTable\u001b[49m\u001b[43m)\u001b[49m\u001b[43m \u001b[49m\u001b[38;5;28;43;01melse\u001b[39;49;00m\u001b[43m \u001b[49m\u001b[43m[\u001b[49m\u001b[43mb\u001b[49m\u001b[43m]\u001b[49m\u001b[43m)\u001b[49m\u001b[43m \u001b[49m\u001b[38;5;28;43;01mfor\u001b[39;49;00m\u001b[43m \u001b[49m\u001b[43mb\u001b[49m\u001b[43m \u001b[49m\u001b[38;5;129;43;01min\u001b[39;49;00m\u001b[43m \u001b[49m\u001b[43mdata\u001b[49m\n\u001b[1;32m    462\u001b[0m \u001b[43m        \u001b[49m\u001b[43m)\u001b[49m\n\u001b[1;32m    463\u001b[0m     )\n\u001b[1;32m    464\u001b[0m     \u001b[38;5;28;01mreturn\u001b[39;00m wrap_df(\n\u001b[1;32m    465\u001b[0m         arrow_to_pydf(\n\u001b[1;32m    466\u001b[0m             data\u001b[38;5;241m=\u001b[39mpa_table,\n\u001b[0;32m   (...)\u001b[0m\n\u001b[1;32m    470\u001b[0m         )\n\u001b[1;32m    471\u001b[0m     )\n\u001b[1;32m    473\u001b[0m msg \u001b[38;5;241m=\u001b[39m \u001b[38;5;124mf\u001b[39m\u001b[38;5;124m\"\u001b[39m\u001b[38;5;124mexpected PyArrow Table, Array, or one or more RecordBatches; got \u001b[39m\u001b[38;5;132;01m{\u001b[39;00m\u001b[38;5;28mtype\u001b[39m(data)\u001b[38;5;241m.\u001b[39m\u001b[38;5;18m__name__\u001b[39m\u001b[38;5;132;01m!r}\u001b[39;00m\u001b[38;5;124m\"\u001b[39m\n",
      "File \u001b[0;32m~/Documents/mass_spec_classifier/dc_env/lib/python3.12/site-packages/depthcharge/data/arrow.py:107\u001b[0m, in \u001b[0;36mspectra_to_stream\u001b[0;34m(peak_file, batch_size, metadata_df, ms_level, preprocessing_fn, valid_charge, custom_fields, progress)\u001b[0m\n\u001b[1;32m    104\u001b[0m         validation \u001b[38;5;241m=\u001b[39m \u001b[38;5;124m\"\u001b[39m\u001b[38;5;124mm:m\u001b[39m\u001b[38;5;124m\"\u001b[39m\n\u001b[1;32m    105\u001b[0m         on_cols\u001b[38;5;241m.\u001b[39mappend(\u001b[38;5;124m\"\u001b[39m\u001b[38;5;124mpeak_file\u001b[39m\u001b[38;5;124m\"\u001b[39m)\n\u001b[0;32m--> 107\u001b[0m parser \u001b[38;5;241m=\u001b[39m \u001b[43mParserFactory\u001b[49m\u001b[38;5;241;43m.\u001b[39;49m\u001b[43mget_parser\u001b[49m\u001b[43m(\u001b[49m\u001b[43mpeak_file\u001b[49m\u001b[43m,\u001b[49m\u001b[43m \u001b[49m\u001b[38;5;241;43m*\u001b[39;49m\u001b[38;5;241;43m*\u001b[39;49m\u001b[43mparser_args\u001b[49m\u001b[43m)\u001b[49m\n\u001b[1;32m    108\u001b[0m \u001b[38;5;28;01mfor\u001b[39;00m batch \u001b[38;5;129;01min\u001b[39;00m parser\u001b[38;5;241m.\u001b[39miter_batches(batch_size\u001b[38;5;241m=\u001b[39mbatch_size):\n\u001b[1;32m    109\u001b[0m     \u001b[38;5;28;01mif\u001b[39;00m metadata_df \u001b[38;5;129;01mis\u001b[39;00m \u001b[38;5;129;01mnot\u001b[39;00m \u001b[38;5;28;01mNone\u001b[39;00m:\n",
      "File \u001b[0;32m~/Documents/mass_spec_classifier/dc_env/lib/python3.12/site-packages/depthcharge/data/parsers.py:557\u001b[0m, in \u001b[0;36mParserFactory.get_parser\u001b[0;34m(cls, peak_file, **kwargs)\u001b[0m\n\u001b[1;32m    555\u001b[0m \u001b[38;5;28;01mfor\u001b[39;00m parser \u001b[38;5;129;01min\u001b[39;00m \u001b[38;5;28mcls\u001b[39m\u001b[38;5;241m.\u001b[39mparsers:\n\u001b[1;32m    556\u001b[0m     \u001b[38;5;28;01mtry\u001b[39;00m:\n\u001b[0;32m--> 557\u001b[0m         \u001b[38;5;28;01mreturn\u001b[39;00m \u001b[43mparser\u001b[49m\u001b[43m(\u001b[49m\u001b[43mpeak_file\u001b[49m\u001b[43m,\u001b[49m\u001b[43m \u001b[49m\u001b[38;5;241;43m*\u001b[39;49m\u001b[38;5;241;43m*\u001b[39;49m\u001b[43mkwargs\u001b[49m\u001b[43m)\u001b[49m\n\u001b[1;32m    558\u001b[0m     \u001b[38;5;28;01mexcept\u001b[39;00m \u001b[38;5;167;01mOSError\u001b[39;00m:\n\u001b[1;32m    559\u001b[0m         \u001b[38;5;28;01mpass\u001b[39;00m\n",
      "File \u001b[0;32m~/Documents/mass_spec_classifier/dc_env/lib/python3.12/site-packages/depthcharge/data/parsers.py:84\u001b[0m, in \u001b[0;36mBaseParser.__init__\u001b[0;34m(self, peak_file, ms_level, preprocessing_fn, valid_charge, custom_fields, progress, id_type)\u001b[0m\n\u001b[1;32m     81\u001b[0m \u001b[38;5;28mself\u001b[39m\u001b[38;5;241m.\u001b[39mid_type \u001b[38;5;241m=\u001b[39m id_type\n\u001b[1;32m     83\u001b[0m \u001b[38;5;66;03m# Check format:\u001b[39;00m\n\u001b[0;32m---> 84\u001b[0m \u001b[38;5;28;43mself\u001b[39;49m\u001b[38;5;241;43m.\u001b[39;49m\u001b[43msniff\u001b[49m\u001b[43m(\u001b[49m\u001b[43m)\u001b[49m\n\u001b[1;32m     86\u001b[0m \u001b[38;5;66;03m# Used during parsing:\u001b[39;00m\n\u001b[1;32m     87\u001b[0m \u001b[38;5;28mself\u001b[39m\u001b[38;5;241m.\u001b[39m_batch \u001b[38;5;241m=\u001b[39m \u001b[38;5;28;01mNone\u001b[39;00m\n",
      "File \u001b[0;32m~/Documents/mass_spec_classifier/dc_env/lib/python3.12/site-packages/depthcharge/data/parsers.py:288\u001b[0m, in \u001b[0;36mMzmlParser.sniff\u001b[0;34m(self)\u001b[0m\n\u001b[1;32m    279\u001b[0m \u001b[38;5;250m\u001b[39m\u001b[38;5;124;03m\"\"\"Quickly test a file for the correct type.\u001b[39;00m\n\u001b[1;32m    280\u001b[0m \n\u001b[1;32m    281\u001b[0m \u001b[38;5;124;03mRaises\u001b[39;00m\n\u001b[0;32m   (...)\u001b[0m\n\u001b[1;32m    285\u001b[0m \n\u001b[1;32m    286\u001b[0m \u001b[38;5;124;03m\"\"\"\u001b[39;00m\n\u001b[1;32m    287\u001b[0m \u001b[38;5;28;01mwith\u001b[39;00m \u001b[38;5;28mself\u001b[39m\u001b[38;5;241m.\u001b[39mpeak_file\u001b[38;5;241m.\u001b[39mopen() \u001b[38;5;28;01mas\u001b[39;00m mzdat:\n\u001b[0;32m--> 288\u001b[0m     \u001b[38;5;28;43mnext\u001b[39;49m\u001b[43m(\u001b[49m\u001b[43mmzdat\u001b[49m\u001b[43m)\u001b[49m\n\u001b[1;32m    289\u001b[0m     \u001b[38;5;28;01mif\u001b[39;00m \u001b[38;5;124m\"\u001b[39m\u001b[38;5;124mhttp://psi.hupo.org/ms/mzml\u001b[39m\u001b[38;5;124m\"\u001b[39m \u001b[38;5;129;01mnot\u001b[39;00m \u001b[38;5;129;01min\u001b[39;00m \u001b[38;5;28mnext\u001b[39m(mzdat):\n\u001b[1;32m    290\u001b[0m         \u001b[38;5;28;01mraise\u001b[39;00m \u001b[38;5;167;01mOSError\u001b[39;00m(\u001b[38;5;124m\"\u001b[39m\u001b[38;5;124mNot an mzML file.\u001b[39m\u001b[38;5;124m\"\u001b[39m)\n",
      "File \u001b[0;32m<frozen codecs>:322\u001b[0m, in \u001b[0;36mdecode\u001b[0;34m(self, input, final)\u001b[0m\n",
      "\u001b[0;31mUnicodeDecodeError\u001b[0m: 'utf-8' codec can't decode byte 0x9b in position 367: invalid start byte"
     ]
    }
   ],
   "source": [
    "import os\n",
    "\n",
    "orbi_lumos_directory = 'orbitrap_lumos'\n",
    "orbi_lumos_mzmls = [os.path.join(orbi_lumos_directory, file) \n",
    "             for file in os.listdir(orbi_lumos_directory) \n",
    "             if os.path.isfile(os.path.join(orbi_lumos_directory, file))]\n",
    "q_exactive_hfx_directory = 'Q_exactive_hfx'\n",
    "q_exactive_hfx_mzmls = [os.path.join(q_exactive_hfx_directory, file) \n",
    "             for file in os.listdir(q_exactive_hfx_directory) \n",
    "             if os.path.isfile(os.path.join(q_exactive_hfx_directory, file))]\n",
    "# Assign labels for each list\n",
    "ms_labeler = {}\n",
    "\n",
    "# Add files from list1 with label 0\n",
    "for filename in orbi_lumos_mzmls:\n",
    "    ms_labeler[filename] = orbi_lumos_directory\n",
    "\n",
    "# Add files from list2 with label 1\n",
    "for filename in q_exactive_hfx_mzmls:\n",
    "    ms_labeler[filename] = q_exactive_hfx_directory\n",
    "\n",
    "all_mzmls = orbi_lumos_mzmls + q_exactive_hfx_mzmls\n",
    "\n",
    "#orbi_lumos_mzmls = './orbitrap_lumos/08CPTAC_C_GBM_W_PNNL_20210830_B2S3_f20.mzML'\n",
    "processing_fn = [\n",
    "    #https://spectrum-utils.readthedocs.io/en/latest/api.html#spectrum_utils.spectrum.MsmsSpectrum.set_mz_range\n",
    "    dc.data.preprocessing.set_mz_range(min_mz=0),\n",
    "    #https://spectrum-utils.readthedocs.io/en/latest/api.html#spectrum_utils.spectrum.MsmsSpectrum.filter_intensity\n",
    "    dc.data.preprocessing.filter_intensity(min_intensity = 0.1),  # Change this value to allow number of peaks per spectrum\n",
    "    #https://spectrum-utils.readthedocs.io/en/latest/api.html#spectrum_utils.spectrum.MsmsSpectrum.scale_intensity\n",
    "    dc.data.preprocessing.scale_intensity(scaling=None),  # Might want to change later\n",
    "    dc.data.preprocessing.scale_to_unit_norm,  # Not sure what this is yet\n",
    "]\n",
    "\n",
    "all_data = list()\n",
    "all_labels = list()\n",
    "for mzml_file in all_mzmls:\n",
    "    # Preprocess the mzML file\n",
    "    df = dc.data.spectra_to_df(\n",
    "        mzml_file,\n",
    "        progress=True,\n",
    "        preprocessing_fn=processing_fn\n",
    "    )\n",
    "    \n",
    "    # Encode peaks\n",
    "    encoder = PeakEncoder(100)\n",
    "    dataset = StreamingSpectrumDataset(df, batch_size=54852)\n",
    "    embeddings = None\n",
    "\n",
    "    for spectrum in dataset:\n",
    "        mz_values = spectrum[\"mz_array\"]\n",
    "        intensities = spectrum[\"intensity_array\"]\n",
    "        stack = torch.stack((mz_values, intensities), dim=2)\n",
    "        embedded_batch = encoder.forward(stack)\n",
    "        embeddings = embedded_batch.detach()\n",
    "        \n",
    "        # Append the data and labels\n",
    "        all_data.append(embeddings)\n",
    "        all_labels.extend([ms_labeler[mzml_file]] * embeddings.size(0))  # Repeat the label for all spectra\n",
    "'''  \n",
    "df = dc.data.spectra_to_df(\n",
    "    mzml,\n",
    "    progress=True,\n",
    "    preprocessing_fn=processing_fn\n",
    ")\n",
    "encoder = PeakEncoder(100)\n",
    "dataset = SpectrumDataset(df, batch_size=54852)\n",
    "'''"
   ]
  },
  {
   "cell_type": "markdown",
   "metadata": {},
   "source": [
    "Not run right now"
   ]
  },
  {
   "cell_type": "code",
   "execution_count": 25,
   "metadata": {},
   "outputs": [],
   "source": [
    "embeddings = None\n",
    "for spectrum in dataset:\n",
    "    mz_values = spectrum[\"mz_array\"]\n",
    "    intensities = spectrum[\"intensity_array\"]\n",
    "    stack = torch.stack((mz_values, intensities), dim= 2)\n",
    "    embedded_batch = encoder.forward(stack)\n",
    "    embeddings = embedded_batch.detach()"
   ]
  },
  {
   "cell_type": "code",
   "execution_count": null,
   "metadata": {},
   "outputs": [
    {
     "name": "stdout",
     "output_type": "stream",
     "text": [
      "Epoch [1/3], Loss: 0.7182\n",
      "Epoch [2/3], Loss: 0.6950\n",
      "Epoch [3/3], Loss: 0.6766\n",
      "Accuracy: 49.91%\n"
     ]
    }
   ],
   "source": [
    "import torch\n",
    "import torch.nn as nn\n",
    "import torch.optim as optim\n",
    "from torch.utils.data import DataLoader, TensorDataset\n",
    "import numpy as np\n",
    "'''\n",
    "# 1. Data Preparation\n",
    "# Assuming 'labels' is a numpy array of shape (39793,) with 0 or 1 for each sample\n",
    "# Example:\n",
    "np.random.seed(42)\n",
    "num_samples = 39793\n",
    "labels = np.random.randint(0, 2, num_samples)\n",
    "num_epochs = 3\n",
    "\n",
    "# Load your data (replace this with your actual data loading)\n",
    "data = embeddings\n",
    "\n",
    "# Convert labels to a PyTorch tensor\n",
    "labels = torch.from_numpy(labels).long()\n",
    "\n",
    "# Create TensorDataset and DataLoader\n",
    "dataset = TensorDataset(data, labels)\n",
    "batch_size = 1  # Per DC, should only be 1, but this takes longer. Originally 64\n",
    "dataloader = DataLoader(dataset, batch_size=batch_size, shuffle=True)\n",
    "'''\n",
    "\n",
    "num_epochs = 3\n",
    "# Stack all embeddings into a single tensor\n",
    "all_data_tensor = torch.cat(all_data, dim=0)\n",
    "\n",
    "# Convert labels to a PyTorch tensor\n",
    "all_labels_tensor = torch.tensor(all_labels, dtype=torch.long)\n",
    "\n",
    "# Create a TensorDataset and DataLoader\n",
    "dataset = TensorDataset(all_data_tensor, all_labels_tensor)\n",
    "dataloader = DataLoader(dataset, batch_size=64, shuffle=True)\n",
    "\n",
    "# 2. Model Definition (CNN approach - recommended)\n",
    "class Classifier(nn.Module):\n",
    "    def __init__(self):\n",
    "        super(Classifier, self).__init__()\n",
    "        self.conv1 = nn.Conv2d(1, 32, kernel_size=(3, 3), padding=1)  # Input channels = 1\n",
    "        self.relu1 = nn.ReLU()\n",
    "        self.pool1 = nn.MaxPool2d(kernel_size=(2, 2))\n",
    "        self.conv2 = nn.Conv2d(32, 64, kernel_size=(3, 3), padding=1)\n",
    "        self.relu2 = nn.ReLU()\n",
    "        self.pool2 = nn.MaxPool2d(kernel_size=(2, 2))\n",
    "        self.flatten = nn.Flatten()\n",
    "        self.fc = nn.Linear(64 * 50 * 27, 2) #nn.Linear(64 * 50 * 25, 2)  # Adjust this depending on the input\n",
    "\n",
    "    def forward(self, x):\n",
    "        # Ensure input has correct dimensions\n",
    "        if x.dim() == 3:  # Handle input shape (N, H, W)\n",
    "            x = x.unsqueeze(1)  # Add channel dimension\n",
    "        x = self.pool1(self.relu1(self.conv1(x)))\n",
    "        x = self.pool2(self.relu2(self.conv2(x)))\n",
    "        x = self.flatten(x)\n",
    "        x = self.fc(x)\n",
    "        return x\n",
    "\n",
    "# For Rob\n",
    "device = torch.device(\"mps\" if torch.backends.mps.is_available() else \"cpu\")\n",
    "# For Nvidia GPU\n",
    "#device = torch.device(\"cuda\" if torch.cuda.is_available() else \"cpu\")\n",
    "\n",
    "model = Classifier().to(device)\n",
    "\n",
    "# 3. Loss Function and Optimizer\n",
    "criterion = nn.CrossEntropyLoss()\n",
    "optimizer = optim.Adam(model.parameters(), lr=0.001)\n",
    "\n",
    "# 4. Training loop with reshaping for CNN\n",
    "for epoch in range(num_epochs):\n",
    "    for inputs, labels in dataloader:\n",
    "        inputs, labels = inputs.to(device), labels.to(device)\n",
    "\n",
    "        # Reshape inputs for CNN\n",
    "        if inputs.dim() == 3:\n",
    "            inputs = inputs.unsqueeze(1)  # (N, H, W) -> (N, C, H, W)\n",
    "\n",
    "        optimizer.zero_grad()\n",
    "        outputs = model(inputs)\n",
    "        loss = criterion(outputs, labels)\n",
    "        loss.backward()\n",
    "        optimizer.step()\n",
    "\n",
    "    print(f'Epoch [{epoch+1}/{num_epochs}], Loss: {loss.item():.4f}')\n",
    "\n",
    "# During evaluation, move inputs and labels to MPS (or CUDA)\n",
    "model.eval()  # Set the model to evaluation mode\n",
    "with torch.no_grad():\n",
    "    correct = 0\n",
    "    total = 0\n",
    "    for inputs, labels in dataloader:\n",
    "        # Move data to the same device as the model\n",
    "        inputs, labels = inputs.to(device), labels.to(device)\n",
    "\n",
    "        # Perform forward pass\n",
    "        outputs = model(inputs)\n",
    "\n",
    "        # Compute predictions and accuracy\n",
    "        _, predicted = torch.max(outputs.data, 1)\n",
    "        total += labels.size(0)\n",
    "        correct += (predicted == labels).sum().item()\n",
    "\n",
    "print(f'Accuracy: {100 * correct / total:.2f}%')"
   ]
  }
 ],
 "metadata": {
  "kernelspec": {
   "display_name": "dc_env",
   "language": "python",
   "name": "python3"
  },
  "language_info": {
   "codemirror_mode": {
    "name": "ipython",
    "version": 3
   },
   "file_extension": ".py",
   "mimetype": "text/x-python",
   "name": "python",
   "nbconvert_exporter": "python",
   "pygments_lexer": "ipython3",
   "version": "3.12.2"
  }
 },
 "nbformat": 4,
 "nbformat_minor": 2
}
