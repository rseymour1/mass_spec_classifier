{
 "cells": [
  {
   "cell_type": "code",
   "execution_count": 6,
   "metadata": {},
   "outputs": [],
   "source": [
    "import torch\n",
    "import torch.nn as nn\n",
    "import torch.optim as optim\n",
    "import depthcharge as dc\n",
    "import numpy as np\n",
    "from depthcharge.encoders import PeakEncoder\n",
    "from depthcharge.data import SpectrumDataset, StreamingSpectrumDataset"
   ]
  },
  {
   "cell_type": "markdown",
   "metadata": {},
   "source": [
    "This method works, but not ideal."
   ]
  },
  {
   "cell_type": "code",
   "execution_count": 21,
   "metadata": {},
   "outputs": [
    {
     "name": "stderr",
     "output_type": "stream",
     "text": [
      "08CPTAC_C_GBM_W_PNNL_20210830_B2S3_f20.mzML: 100%|██████████| 54852/54852 [00:25<00:00, 2118.90 spectra/s]\n"
     ]
    }
   ],
   "source": [
    "mzml = './orbitrap_lumos/08CPTAC_C_GBM_W_PNNL_20210830_B2S3_f20.mzML' #'..//08CPTAC_C_GBM_W_PNNL_20210830_B2S3_f20.mzML'\n",
    "\n",
    "dataset = SpectrumDataset(mzml, batch_size=54852)\n",
    "encoder = PeakEncoder(100)"
   ]
  },
  {
   "cell_type": "markdown",
   "metadata": {},
   "source": [
    "This is the ideal way to read in spectra for the problem we are trying to solve, but I'll see if I can get it to work."
   ]
  },
  {
   "cell_type": "code",
   "execution_count": 30,
   "metadata": {},
   "outputs": [
    {
     "name": "stderr",
     "output_type": "stream",
     "text": [
      "08CPTAC_C_GBM_W_PNNL_20210830_B2S3_f20.mzML: 100%|██████████| 54852/54852 [00:24<00:00, 2257.16 spectra/s]\n",
      "BD20180604_PTRC_DP1-Microscale_SS_Plex3_Proteome_F20.mzML: 100%|██████████| 49246/49246 [00:20<00:00, 2458.70 spectra/s]\n",
      "19CPTAC_LUAD_W_BI_20180730_KL_f08.mzML: 100%|██████████| 51129/51129 [00:22<00:00, 2277.13 spectra/s]\n",
      "KY20201205_TV_CarboDocPDX_Proteome_f07.mzML: 100%|██████████| 48845/48845 [00:25<00:00, 1926.12 spectra/s]\n"
     ]
    },
    {
     "data": {
      "text/plain": [
       "'  \\ndf = dc.data.spectra_to_df(\\n    mzml,\\n    progress=True,\\n    preprocessing_fn=processing_fn\\n)\\nencoder = PeakEncoder(100)\\ndataset = SpectrumDataset(df, batch_size=54852)\\n'"
      ]
     },
     "execution_count": 30,
     "metadata": {},
     "output_type": "execute_result"
    }
   ],
   "source": [
    "import os\n",
    "\n",
    "orbi_lumos_directory = 'orbitrap_lumos'\n",
    "#orbi_lumos_mzmls = [os.path.join(orbi_lumos_directory, file) \n",
    "#             for file in os.listdir(orbi_lumos_directory) \n",
    "#             if os.path.isfile(os.path.join(orbi_lumos_directory, file))]\n",
    "orbi_lumos_mzmls = [\"orbitrap_lumos/08CPTAC_C_GBM_W_PNNL_20210830_B2S3_f20.mzML\",\n",
    "                    \"orbitrap_lumos/BD20180604_PTRC_DP1-Microscale_SS_Plex3_Proteome_F20.mzML\"]\n",
    "q_exactive_hfx_directory = 'Q_exactive_hfx'\n",
    "#q_exactive_hfx_mzmls = [os.path.join(q_exactive_hfx_directory, file) \n",
    "#             for file in os.listdir(q_exactive_hfx_directory) \n",
    "#             if os.path.isfile(os.path.join(q_exactive_hfx_directory, file))]\n",
    "q_exactive_hfx_mzmls = [\"Q_exactive_hfx/19CPTAC_LUAD_W_BI_20180730_KL_f08.mzML\",\n",
    "                        \"Q_exactive_hfx/KY20201205_TV_CarboDocPDX_Proteome_f07.mzML\"]\n",
    "# Assign labels for each list\n",
    "ms_labeler = {}\n",
    "\n",
    "# Add files from list1 with label 0\n",
    "for filename in orbi_lumos_mzmls:\n",
    "    ms_labeler[filename] = orbi_lumos_directory\n",
    "\n",
    "# Add files from list2 with label 1\n",
    "for filename in q_exactive_hfx_mzmls:\n",
    "    ms_labeler[filename] = q_exactive_hfx_directory\n",
    "\n",
    "all_mzmls = orbi_lumos_mzmls + q_exactive_hfx_mzmls\n",
    "\n",
    "#orbi_lumos_mzmls = './orbitrap_lumos/08CPTAC_C_GBM_W_PNNL_20210830_B2S3_f20.mzML'\n",
    "processing_fn = [\n",
    "    #https://spectrum-utils.readthedocs.io/en/latest/api.html#spectrum_utils.spectrum.MsmsSpectrum.set_mz_range\n",
    "    dc.data.preprocessing.set_mz_range(min_mz=0),\n",
    "    #https://spectrum-utils.readthedocs.io/en/latest/api.html#spectrum_utils.spectrum.MsmsSpectrum.filter_intensity\n",
    "    dc.data.preprocessing.filter_intensity(min_intensity = 0.1),  # Change this value to allow number of peaks per spectrum\n",
    "    #https://spectrum-utils.readthedocs.io/en/latest/api.html#spectrum_utils.spectrum.MsmsSpectrum.scale_intensity\n",
    "    dc.data.preprocessing.scale_intensity(scaling=None),  # Might want to change later\n",
    "    dc.data.preprocessing.scale_to_unit_norm,  # Not sure what this is yet\n",
    "]\n",
    "\n",
    "all_data = list()\n",
    "all_labels = list()\n",
    "for mzml_file in all_mzmls:\n",
    "    # Preprocess the mzML file\n",
    "    df = dc.data.spectra_to_df(\n",
    "        mzml_file,\n",
    "        progress=True,\n",
    "        preprocessing_fn=processing_fn\n",
    "    )\n",
    "    \n",
    "    # Encode peaks\n",
    "    encoder = PeakEncoder(100)\n",
    "    dataset = StreamingSpectrumDataset(df, batch_size=54852)\n",
    "    embeddings = None\n",
    "\n",
    "    for spectrum in dataset:\n",
    "        mz_values = spectrum[\"mz_array\"]\n",
    "        intensities = spectrum[\"intensity_array\"]\n",
    "        stack = torch.stack((mz_values, intensities), dim=2)\n",
    "        embedded_batch = encoder.forward(stack)\n",
    "        embeddings = embedded_batch.detach()\n",
    "        \n",
    "        # Append the data and labels\n",
    "        all_data.append(embeddings)\n",
    "        all_labels.extend([ms_labeler[mzml_file]] * embeddings.size(0))  # Repeat the label for all spectra\n",
    "'''  \n",
    "df = dc.data.spectra_to_df(\n",
    "    mzml,\n",
    "    progress=True,\n",
    "    preprocessing_fn=processing_fn\n",
    ")\n",
    "encoder = PeakEncoder(100)\n",
    "dataset = SpectrumDataset(df, batch_size=54852)\n",
    "'''"
   ]
  },
  {
   "cell_type": "markdown",
   "metadata": {},
   "source": [
    "Not run right now"
   ]
  },
  {
   "cell_type": "code",
   "execution_count": 32,
   "metadata": {},
   "outputs": [
    {
     "name": "stdout",
     "output_type": "stream",
     "text": [
      "torch.Size([39793, 218, 100])\n",
      "torch.Size([35236, 208, 100])\n",
      "torch.Size([41992, 193, 100])\n",
      "torch.Size([36013, 195, 100])\n"
     ]
    }
   ],
   "source": [
    "for i in all_data:\n",
    "    print(i.shape)"
   ]
  },
  {
   "cell_type": "code",
   "execution_count": 31,
   "metadata": {},
   "outputs": [
    {
     "ename": "RuntimeError",
     "evalue": "Sizes of tensors must match except in dimension 0. Expected size 218 but got size 208 for tensor number 1 in the list.",
     "output_type": "error",
     "traceback": [
      "\u001b[0;31m---------------------------------------------------------------------------\u001b[0m",
      "\u001b[0;31mRuntimeError\u001b[0m                              Traceback (most recent call last)",
      "Cell \u001b[0;32mIn[31], line 29\u001b[0m\n\u001b[1;32m     27\u001b[0m num_epochs \u001b[38;5;241m=\u001b[39m \u001b[38;5;241m3\u001b[39m\n\u001b[1;32m     28\u001b[0m \u001b[38;5;66;03m# Stack all embeddings into a single tensor\u001b[39;00m\n\u001b[0;32m---> 29\u001b[0m all_data_tensor \u001b[38;5;241m=\u001b[39m \u001b[43mtorch\u001b[49m\u001b[38;5;241;43m.\u001b[39;49m\u001b[43mcat\u001b[49m\u001b[43m(\u001b[49m\u001b[43mall_data\u001b[49m\u001b[43m,\u001b[49m\u001b[43m \u001b[49m\u001b[43mdim\u001b[49m\u001b[38;5;241;43m=\u001b[39;49m\u001b[38;5;241;43m0\u001b[39;49m\u001b[43m)\u001b[49m\n\u001b[1;32m     31\u001b[0m \u001b[38;5;66;03m# Convert labels to a PyTorch tensor\u001b[39;00m\n\u001b[1;32m     32\u001b[0m all_labels_tensor \u001b[38;5;241m=\u001b[39m torch\u001b[38;5;241m.\u001b[39mtensor(all_labels, dtype\u001b[38;5;241m=\u001b[39mtorch\u001b[38;5;241m.\u001b[39mlong)\n",
      "\u001b[0;31mRuntimeError\u001b[0m: Sizes of tensors must match except in dimension 0. Expected size 218 but got size 208 for tensor number 1 in the list."
     ]
    }
   ],
   "source": [
    "import torch\n",
    "import torch.nn as nn\n",
    "import torch.optim as optim\n",
    "from torch.utils.data import DataLoader, TensorDataset\n",
    "import numpy as np\n",
    "'''\n",
    "# 1. Data Preparation\n",
    "# Assuming 'labels' is a numpy array of shape (39793,) with 0 or 1 for each sample\n",
    "# Example:\n",
    "np.random.seed(42)\n",
    "num_samples = 39793\n",
    "labels = np.random.randint(0, 2, num_samples)\n",
    "num_epochs = 3\n",
    "\n",
    "# Load your data (replace this with your actual data loading)\n",
    "data = embeddings\n",
    "\n",
    "# Convert labels to a PyTorch tensor\n",
    "labels = torch.from_numpy(labels).long()\n",
    "\n",
    "# Create TensorDataset and DataLoader\n",
    "dataset = TensorDataset(data, labels)\n",
    "batch_size = 1  # Per DC, should only be 1, but this takes longer. Originally 64\n",
    "dataloader = DataLoader(dataset, batch_size=batch_size, shuffle=True)\n",
    "'''\n",
    "\n",
    "num_epochs = 3\n",
    "# Stack all embeddings into a single tensor\n",
    "all_data_tensor = torch.cat(all_data, dim=0)\n",
    "\n",
    "# Convert labels to a PyTorch tensor\n",
    "all_labels_tensor = torch.tensor(all_labels, dtype=torch.long)\n",
    "\n",
    "# Create a TensorDataset and DataLoader\n",
    "dataset = TensorDataset(all_data_tensor, all_labels_tensor)\n",
    "dataloader = DataLoader(dataset, batch_size=64, shuffle=True)\n",
    "\n",
    "# 2. Model Definition (CNN approach - recommended)\n",
    "class Classifier(nn.Module):\n",
    "    def __init__(self):\n",
    "        super(Classifier, self).__init__()\n",
    "        self.conv1 = nn.Conv2d(1, 32, kernel_size=(3, 3), padding=1)  # Input channels = 1\n",
    "        self.relu1 = nn.ReLU()\n",
    "        self.pool1 = nn.MaxPool2d(kernel_size=(2, 2))\n",
    "        self.conv2 = nn.Conv2d(32, 64, kernel_size=(3, 3), padding=1)\n",
    "        self.relu2 = nn.ReLU()\n",
    "        self.pool2 = nn.MaxPool2d(kernel_size=(2, 2))\n",
    "        self.flatten = nn.Flatten()\n",
    "        self.fc = nn.Linear(64 * 50 * 27, 2) #nn.Linear(64 * 50 * 25, 2)  # Adjust this depending on the input\n",
    "\n",
    "    def forward(self, x):\n",
    "        # Ensure input has correct dimensions\n",
    "        if x.dim() == 3:  # Handle input shape (N, H, W)\n",
    "            x = x.unsqueeze(1)  # Add channel dimension\n",
    "        x = self.pool1(self.relu1(self.conv1(x)))\n",
    "        x = self.pool2(self.relu2(self.conv2(x)))\n",
    "        x = self.flatten(x)\n",
    "        x = self.fc(x)\n",
    "        return x\n",
    "\n",
    "# For Rob\n",
    "device = torch.device(\"mps\" if torch.backends.mps.is_available() else \"cpu\")\n",
    "# For Nvidia GPU\n",
    "#device = torch.device(\"cuda\" if torch.cuda.is_available() else \"cpu\")\n",
    "\n",
    "model = Classifier().to(device)\n",
    "\n",
    "# 3. Loss Function and Optimizer\n",
    "criterion = nn.CrossEntropyLoss()\n",
    "optimizer = optim.Adam(model.parameters(), lr=0.001)\n",
    "\n",
    "# 4. Training loop with reshaping for CNN\n",
    "for epoch in range(num_epochs):\n",
    "    for inputs, labels in dataloader:\n",
    "        inputs, labels = inputs.to(device), labels.to(device)\n",
    "\n",
    "        # Reshape inputs for CNN\n",
    "        if inputs.dim() == 3:\n",
    "            inputs = inputs.unsqueeze(1)  # (N, H, W) -> (N, C, H, W)\n",
    "\n",
    "        optimizer.zero_grad()\n",
    "        outputs = model(inputs)\n",
    "        loss = criterion(outputs, labels)\n",
    "        loss.backward()\n",
    "        optimizer.step()\n",
    "\n",
    "    print(f'Epoch [{epoch+1}/{num_epochs}], Loss: {loss.item():.4f}')\n",
    "\n",
    "# During evaluation, move inputs and labels to MPS (or CUDA)\n",
    "model.eval()  # Set the model to evaluation mode\n",
    "with torch.no_grad():\n",
    "    correct = 0\n",
    "    total = 0\n",
    "    for inputs, labels in dataloader:\n",
    "        # Move data to the same device as the model\n",
    "        inputs, labels = inputs.to(device), labels.to(device)\n",
    "\n",
    "        # Perform forward pass\n",
    "        outputs = model(inputs)\n",
    "\n",
    "        # Compute predictions and accuracy\n",
    "        _, predicted = torch.max(outputs.data, 1)\n",
    "        total += labels.size(0)\n",
    "        correct += (predicted == labels).sum().item()\n",
    "\n",
    "print(f'Accuracy: {100 * correct / total:.2f}%')"
   ]
  }
 ],
 "metadata": {
  "kernelspec": {
   "display_name": "dc_env",
   "language": "python",
   "name": "python3"
  },
  "language_info": {
   "codemirror_mode": {
    "name": "ipython",
    "version": 3
   },
   "file_extension": ".py",
   "mimetype": "text/x-python",
   "name": "python",
   "nbconvert_exporter": "python",
   "pygments_lexer": "ipython3",
   "version": "3.12.2"
  }
 },
 "nbformat": 4,
 "nbformat_minor": 2
}
